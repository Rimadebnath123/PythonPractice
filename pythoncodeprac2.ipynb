{
 "cells": [
  {
   "cell_type": "markdown",
   "id": "e0083a3b",
   "metadata": {},
   "source": [
    "Second Largest Element in an Array  o(n) o(1)"
   ]
  },
  {
   "cell_type": "code",
   "execution_count": 2,
   "id": "f830c62d",
   "metadata": {},
   "outputs": [
    {
     "name": "stdout",
     "output_type": "stream",
     "text": [
      "the seond largest no is 34\n"
     ]
    }
   ],
   "source": [
    "def secondLargest(arr):\n",
    "    n=len(arr)\n",
    "\n",
    "    largest=-1\n",
    "    secondlarg=-1\n",
    "    for i in range (n):\n",
    "        if arr[i]>largest:\n",
    "            largest=arr[i]\n",
    "    for i in range (n):\n",
    "        if arr[i]>secondlarg and arr[i]!=largest:\n",
    "            secondlarg=arr[i]\n",
    "\n",
    "    return secondlarg\n",
    "\n",
    "arr=[12, 35, 1, 10, 34, 1]\n",
    "print(\"the seond largest no is\",+secondLargest(arr))"
   ]
  },
  {
   "cell_type": "markdown",
   "id": "69497a96",
   "metadata": {},
   "source": [
    "Third largest element in an array of distinct elements  o(n),o(1)"
   ]
  },
  {
   "cell_type": "code",
   "execution_count": 3,
   "id": "e82ea693",
   "metadata": {},
   "outputs": [
    {
     "name": "stdout",
     "output_type": "stream",
     "text": [
      "14\n"
     ]
    }
   ],
   "source": [
    "def thirdLargest(arr):\n",
    "    n = len(arr)\n",
    "    \n",
    "    # Sort the array \n",
    "    arr.sort()\n",
    "    \n",
    "    # Return the third largest element \n",
    "    return arr[n - 3]\n",
    "\n",
    "\n",
    "arr = [1, 14, 2, 16, 10, 20]\n",
    "print(thirdLargest(arr))"
   ]
  },
  {
   "cell_type": "code",
   "execution_count": 6,
   "id": "00c86768",
   "metadata": {},
   "outputs": [
    {
     "name": "stdout",
     "output_type": "stream",
     "text": [
      "the seond largest no is 12\n"
     ]
    }
   ],
   "source": [
    "def thirdLargest(arr):\n",
    "    n=len(arr)\n",
    "\n",
    "    largest=float(\"-inf\")\n",
    "    secondlarg=float(\"-inf\")\n",
    "    thirdlarg=float(\"-inf\")\n",
    "    for i in range (n):\n",
    "        if arr[i]>largest:\n",
    "            largest=arr[i]\n",
    "    for i in range (n):\n",
    "        if arr[i]>secondlarg and arr[i]<largest:\n",
    "            secondlarg=arr[i]\n",
    "    for i in range (n):\n",
    "        if arr[i]>thirdlarg and arr[i]<secondlarg:\n",
    "            thirdlarg=arr[i]\n",
    "\n",
    "    return thirdlarg\n",
    "\n",
    "arr=[12, 35, 1, 10, 34, 1]\n",
    "print(\"the seond largest no is\",+thirdLargest(arr))"
   ]
  },
  {
   "cell_type": "markdown",
   "id": "ed79ba3e",
   "metadata": {},
   "source": [
    "Maximum product of a triplet (subsequence of size 3) in array Time O(n) and Space O(1)"
   ]
  },
  {
   "cell_type": "code",
   "execution_count": 7,
   "id": "0189aa3b",
   "metadata": {},
   "outputs": [
    {
     "name": "stdout",
     "output_type": "stream",
     "text": [
      "1200\n"
     ]
    }
   ],
   "source": [
    "def maxProduct(arr):\n",
    "    n = len(arr)\n",
    "    \n",
    "    # Sort the array in ascending order\n",
    "    arr.sort()\n",
    "\n",
    "    # Return the maximum of product of last three\n",
    "    # elements and product of first two elements\n",
    "    # and last element\n",
    "    return max(arr[0] * arr[1] * arr[n - 1],\n",
    "               arr[n - 1] * arr[n - 2] * arr[n - 3])\n",
    "\n",
    "if __name__ == \"__main__\":\n",
    "    arr = [-10, -3, 5, 6, -20]\n",
    "    max = maxProduct(arr)\n",
    "    print(max)"
   ]
  },
  {
   "cell_type": "markdown",
   "id": "207571dc",
   "metadata": {},
   "source": [
    "Maximum consecutive one’s (or zeros) in a binary array "
   ]
  },
  {
   "cell_type": "code",
   "execution_count": 1,
   "id": "456ae554",
   "metadata": {},
   "outputs": [
    {
     "name": "stdout",
     "output_type": "stream",
     "text": [
      "4\n"
     ]
    }
   ],
   "source": [
    "def maxConsecBits(arr):\n",
    "    maxCount, count = 0, 1\n",
    "    \n",
    "    # Loop through the array starting from the second element\n",
    "    for i in range(1, len(arr)):\n",
    "     \n",
    "        if arr[i] == arr[i - 1]:\n",
    "            count += 1\n",
    "        # If not equal, update maxCount if needed and reset count\n",
    "        else:\n",
    "            maxCount = max(maxCount, count)\n",
    "            count = 1\n",
    "\n",
    "    return max(maxCount, count)\n",
    "\n",
    "\n",
    "arr = [0, 1, 0, 1, 1, 1, 1]\n",
    "print(maxConsecBits(arr))"
   ]
  },
  {
   "cell_type": "markdown",
   "id": "4df76577",
   "metadata": {},
   "source": [
    "Move all zeros to end of array O(n), O(1)"
   ]
  },
  {
   "cell_type": "code",
   "execution_count": 2,
   "id": "134e47aa",
   "metadata": {},
   "outputs": [
    {
     "name": "stdout",
     "output_type": "stream",
     "text": [
      "1 2 4 3 5 0 0 0 "
     ]
    }
   ],
   "source": [
    "def pushZerosToEnd(arr):\n",
    "    \n",
    "    # Pointer to track the position for next non-zero element\n",
    "    count = 0\n",
    "    \n",
    "    for i in range(len(arr)):\n",
    "        \n",
    "        # If the current element is non-zero\n",
    "        if arr[i] != 0:\n",
    "            \n",
    "            # Swap the current element with the 0 at index 'count'\n",
    "            arr[i], arr[count] = arr[count], arr[i]\n",
    "            \n",
    "            # Move 'count' pointer to the next position\n",
    "            count += 1\n",
    "\n",
    "if __name__ == \"__main__\":\n",
    "    arr = [1, 2, 0, 4, 3, 0, 5, 0]\n",
    "    pushZerosToEnd(arr)\n",
    "    for num in arr:\n",
    "        print(num, end=\" \")"
   ]
  },
  {
   "cell_type": "markdown",
   "id": "d56935da",
   "metadata": {},
   "source": [
    "Reverse an Array in groups of given size O(n)  O(n)"
   ]
  },
  {
   "cell_type": "code",
   "execution_count": 2,
   "id": "bbf96421",
   "metadata": {},
   "outputs": [
    {
     "name": "stdout",
     "output_type": "stream",
     "text": [
      "Output: [3, 2, 1, 6, 5, 4, 8, 7]\n"
     ]
    }
   ],
   "source": [
    "def reverse_in_groups(arr, k):\n",
    "    result = []\n",
    "    n = len(arr)\n",
    "    \n",
    "    for i in range(0, n, k):\n",
    "        group = arr[i:i+k]\n",
    "        result.extend(reversed(group))  # or group[::-1]\n",
    "    \n",
    "    return result\n",
    "\n",
    "# Example usage\n",
    "arr = [1, 2, 3, 4, 5, 6, 7, 8]\n",
    "k = 3\n",
    "result = reverse_in_groups(arr, k)\n",
    "print(\"Output:\", result)\n"
   ]
  },
  {
   "cell_type": "code",
   "execution_count": null,
   "id": "1004036c",
   "metadata": {},
   "outputs": [
    {
     "name": "stdout",
     "output_type": "stream",
     "text": [
      "Output: [3, 2, 1, 6, 5, 4, 8, 7]\n"
     ]
    }
   ],
   "source": [
    "def reverse_in_groups(arr, k):\n",
    "    n = len(arr)\n",
    "    for i in range(0, n, k):\n",
    "        # Reverse the subarray arr[i:i+k]\n",
    "        arr[i:i+k] = arr[i:i+k][::-1]\n",
    "    return arr\n",
    "\n",
    "# Example usage\n",
    "arr = [1, 2, 3, 4, 5, 6, 7, 8]\n",
    "k = 3\n",
    "result = reverse_in_groups(arr, k)\n",
    "print(\"Output:\", result)\n",
    "#O(n) O(k)"
   ]
  },
  {
   "cell_type": "markdown",
   "id": "9293ed8e",
   "metadata": {},
   "source": [
    "Rotate an Array by d - Counterclockwise or Left O(n*d),O(1)"
   ]
  },
  {
   "cell_type": "code",
   "execution_count": null,
   "id": "883df712",
   "metadata": {},
   "outputs": [],
   "source": [
    "# Function to left rotate array by d positions\n",
    "def rotateArr(arr, d):\n",
    "    n = len(arr)\n",
    "  \n",
    "    # Repeat the rotation d times\n",
    "    for i in range(d):\n",
    "      \n",
    "        # Left rotate the array by one position\n",
    "        first = arr[0]\n",
    "        for j in range(n - 1):\n",
    "            arr[j] = arr[j + 1]\n",
    "        arr[n - 1] = first\n",
    "\n",
    "if __name__ == \"__main__\":\n",
    "    arr = [1, 2, 3, 4, 5, 6]\n",
    "    d = 2\n",
    "\n",
    "    rotateArr(arr, d)\n",
    "\n",
    "    for i in range(len(arr)):\n",
    "        print(arr[i], end=\" \")"
   ]
  },
  {
   "cell_type": "markdown",
   "id": "eafbe45d",
   "metadata": {},
   "source": [
    "Sort an array in wave form  O(n),O(1),"
   ]
  },
  {
   "cell_type": "code",
   "execution_count": 4,
   "id": "812c2470",
   "metadata": {},
   "outputs": [
    {
     "name": "stdout",
     "output_type": "stream",
     "text": [
      "2 1 4 3 5 "
     ]
    }
   ],
   "source": [
    "def sortInWave(arr):\n",
    "    \n",
    "    n = len(arr)\n",
    "   \n",
    "    # Swap adjacent elements\n",
    "    for i in range(0,n-1,2):\n",
    "        arr[i], arr[i+1] = arr[i+1], arr[i]\n",
    "\n",
    "# Driver program\n",
    "if __name__ == \"__main__\":\n",
    "    arr = [1, 2, 3, 4, 5]\n",
    "    sortInWave(arr)\n",
    "    for i in range(0,len(arr)):\n",
    "        print (arr[i],end=\" \")"
   ]
  },
  {
   "cell_type": "markdown",
   "id": "b4b468df",
   "metadata": {},
   "source": [
    "Adding one to number represented as array of digits O(n) Time and O(1) Space..."
   ]
  },
  {
   "cell_type": "code",
   "execution_count": 8,
   "id": "2a30f757",
   "metadata": {},
   "outputs": [
    {
     "name": "stdout",
     "output_type": "stream",
     "text": [
      "1000"
     ]
    }
   ],
   "source": [
    "# Python program to add 1 to a\n",
    "# number represented as an array\n",
    "\n",
    "def addOne(arr):\n",
    "\n",
    "  \n",
    "    carry = 1\n",
    "\n",
    "    for i in range(len(arr) - 1, -1, -1):\n",
    "        sum = arr[i] + carry\n",
    "        arr[i] = sum % 10\n",
    "        carry = sum // 10\n",
    "\n",
    "    if carry:\n",
    "        arr.insert(0, carry)\n",
    "\n",
    "    return arr\n",
    "\n",
    "# Driver code\n",
    "if __name__ == \"__main__\":\n",
    "    arr = [9, 9, 9]\n",
    "    res = addOne(arr)\n",
    "    for i in res:\n",
    "        print(i, end=\"\")"
   ]
  },
  {
   "cell_type": "markdown",
   "id": "f8e0f472",
   "metadata": {},
   "source": [
    "i = 2:\n",
    "sum = arr[2] + carry = 9 + 1 = 10\n",
    "arr[2] = sum % 10 = 10 % 10 = 0\n",
    "carry = sum // 10 = 10 // 10 = 1\n",
    "[9, 9, 0]\n",
    "i = 0:\n",
    "python\n",
    "Copy\n",
    "Edit\n",
    "sum = arr[0] + carry = 9 + 1 = 10\n",
    "arr[0] = 0\n",
    "carry = 1\n",
    "Now array: [0, 0, 0]\n",
    "Still Have Carry?\n",
    "if carry:\n",
    "    arr.insert(0, carry)\n",
    "We still have a carry of 1, so we add it to the front of the list.\n",
    "\n",
    "Now array becomes: [1, 0, 0, 0]"
   ]
  },
  {
   "cell_type": "markdown",
   "id": "7f3abf99",
   "metadata": {},
   "source": [
    "Stock Buy and Sell - Max one Transaction Allowed O(n^2) Time and O(1) Space"
   ]
  },
  {
   "cell_type": "code",
   "execution_count": 9,
   "id": "12b960d4",
   "metadata": {},
   "outputs": [
    {
     "name": "stdout",
     "output_type": "stream",
     "text": [
      "8\n"
     ]
    }
   ],
   "source": [
    "# Python Program to solve stock buy and sell by  \n",
    "# exploring all possible pairs\n",
    "\n",
    "def max_profit(prices):\n",
    "    n = len(prices)\n",
    "    res = 0\n",
    "\n",
    "    # Explore all possible ways to buy and sell stock\n",
    "    for i in range(n - 1):\n",
    "        for j in range(i + 1, n):\n",
    "            res = max(res, prices[j] - prices[i])\n",
    "    \n",
    "    return res\n",
    "\n",
    "if __name__ == \"__main__\":\n",
    "    prices = [7, 10, 1, 3, 6, 9, 2]\n",
    "    print(max_profit(prices))"
   ]
  },
  {
   "cell_type": "markdown",
   "id": "6546641e",
   "metadata": {},
   "source": [
    "| Buy Day (i) | Buy Price | Sell Day (j) | Sell Price | Profit | Max Profit (res)     |\n",
    "|-------------|-----------|--------------|-------------|--------|-----------------------|\n",
    "| 0           | 7         | 1            | 10          | 3      | 3                     |\n",
    "| 0           | 7         | 2            | 1           | -6     | 3                     |\n",
    "| 0           | 7         | 3            | 3           | -4     | 3                     |\n",
    "| ...         | ...       | ...          | ...         | ...    | ...                   |\n",
    "| 2           | 1         | 5            | 9           | 8      | ✅ 8 (best so far)     |\n",
    "| ...         | ...       | ...          | ...         | ...    | ...                   |\n"
   ]
  }
 ],
 "metadata": {
  "kernelspec": {
   "display_name": "Python 3",
   "language": "python",
   "name": "python3"
  },
  "language_info": {
   "codemirror_mode": {
    "name": "ipython",
    "version": 3
   },
   "file_extension": ".py",
   "mimetype": "text/x-python",
   "name": "python",
   "nbconvert_exporter": "python",
   "pygments_lexer": "ipython3",
   "version": "3.12.5"
  }
 },
 "nbformat": 4,
 "nbformat_minor": 5
}
