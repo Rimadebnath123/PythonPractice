{
 "cells": [
  {
   "cell_type": "markdown",
   "id": "1f5a4565",
   "metadata": {},
   "source": [
    "Counting Digits,Letters,and Spaces String"
   ]
  },
  {
   "cell_type": "code",
   "execution_count": 1,
   "id": "fc80d846",
   "metadata": {},
   "outputs": [
    {
     "name": "stdout",
     "output_type": "stream",
     "text": [
      "1\n",
      "8\n",
      "2\n"
     ]
    }
   ],
   "source": [
    "import re\n",
    "name=\"Python is 1\"\n",
    "digitcount=re.sub(\"[^0-9]\",\"\",name)\n",
    "lettercount=re.sub(\"[^a-zA-Z]\",\"\",name)\n",
    "spacecount=re.findall(\"[ \\s]\",name)\n",
    "\n",
    "print(len(digitcount))\n",
    "print(len(lettercount))\n",
    "print(len(spacecount))"
   ]
  },
  {
   "cell_type": "markdown",
   "id": "f20fd2da",
   "metadata": {},
   "source": [
    "#Counting Special Character in a String"
   ]
  },
  {
   "cell_type": "code",
   "execution_count": 2,
   "id": "28e45d8d",
   "metadata": {},
   "outputs": [
    {
     "name": "stdout",
     "output_type": "stream",
     "text": [
      "4\n"
     ]
    }
   ],
   "source": [
    "def count_sp(string):\n",
    "    sp_ch= \"!@#$%^&*()<>?/\\[]{};:~`\"\n",
    "    count=0\n",
    "    for i in string:\n",
    "        if i in sp_ch:\n",
    "            count+=1\n",
    "    return count\n",
    "\n",
    "text= 'Hello!How are you?#speecialcharacter!123'\n",
    "result=count_sp(text)\n",
    "print(result)"
   ]
  },
  {
   "cell_type": "markdown",
   "id": "0e556c57",
   "metadata": {},
   "source": [
    "Removing All Whitespace in a string"
   ]
  },
  {
   "cell_type": "code",
   "execution_count": 3,
   "id": "766ac609",
   "metadata": {},
   "outputs": [
    {
     "name": "stdout",
     "output_type": "stream",
     "text": [
      "CODE\n"
     ]
    }
   ],
   "source": [
    "import re\n",
    "\n",
    "string=\"C O D E\"\n",
    "spaces=re.compile(r'\\s')\n",
    "result=re.sub(spaces,\"\",string)\n",
    "print(result)"
   ]
  },
  {
   "cell_type": "code",
   "execution_count": 4,
   "id": "278482fd",
   "metadata": {},
   "outputs": [
    {
     "name": "stdout",
     "output_type": "stream",
     "text": [
      "CODE\n"
     ]
    }
   ],
   "source": [
    "string=\"C O D E\"\n",
    "string2=\"\".join(char for char in string if char!=\" \")\n",
    "print(string2)"
   ]
  },
  {
   "cell_type": "code",
   "execution_count": 5,
   "id": "d94684c5",
   "metadata": {},
   "outputs": [
    {
     "name": "stdout",
     "output_type": "stream",
     "text": [
      "CODE\n"
     ]
    }
   ],
   "source": [
    "string=\"C O D E\"\n",
    "string2=string.replace(\" \",\"\")\n",
    "print(string2)"
   ]
  },
  {
   "cell_type": "markdown",
   "id": "363137d2",
   "metadata": {},
   "source": [
    "Building a pyramid in python  "
   ]
  },
  {
   "cell_type": "code",
   "execution_count": null,
   "id": "ae8b8221",
   "metadata": {},
   "outputs": [
    {
     "name": "stdout",
     "output_type": "stream",
     "text": [
      "     *\n",
      "    ***\n",
      "   *****\n",
      "  *******\n",
      " *********\n"
     ]
    }
   ],
   "source": [
    "#Hill pattern\n",
    "def pyramid(n):\n",
    "    for i in range(n):\n",
    "        for j in range(i,n):\n",
    "            print(' ',end='')\n",
    "        for j in range(i+1):\n",
    "            print('*',end='')\n",
    "        for j in range(i):\n",
    "            #for i=0 it doesnot print anything\n",
    "            print('*',end='')\n",
    "        print(\"\")        \n",
    "pyramid(5)"
   ]
  },
  {
   "cell_type": "markdown",
   "id": "68e9f72f",
   "metadata": {},
   "source": [
    "Increasing Triangle pattern"
   ]
  },
  {
   "cell_type": "code",
   "execution_count": 15,
   "id": "efb82f9d",
   "metadata": {},
   "outputs": [
    {
     "name": "stdout",
     "output_type": "stream",
     "text": [
      "*\n",
      "**\n",
      "***\n",
      "****\n",
      "*****\n"
     ]
    }
   ],
   "source": [
    "def pattern(n):\n",
    "    for i in range(n):\n",
    "        for j in range (i+1):\n",
    "            print(\"*\",end='')\n",
    "        print('')\n",
    "pattern(5)"
   ]
  },
  {
   "cell_type": "code",
   "execution_count": 16,
   "id": "b6f54b52",
   "metadata": {},
   "outputs": [
    {
     "name": "stdout",
     "output_type": "stream",
     "text": [
      "*****\n",
      "****\n",
      "***\n",
      "**\n",
      "*\n"
     ]
    }
   ],
   "source": [
    "def pattern(n):\n",
    "    for i in range(n):\n",
    "        for j in range (i,n):\n",
    "            print(\"*\",end='')\n",
    "        print('')\n",
    "pattern(5)"
   ]
  },
  {
   "cell_type": "code",
   "execution_count": 2,
   "id": "b56d686f",
   "metadata": {},
   "outputs": [
    {
     "name": "stdout",
     "output_type": "stream",
     "text": [
      "   *\n",
      "  ***\n",
      " *****\n",
      "*******\n",
      " *****\n",
      "  ***\n",
      "   *\n"
     ]
    }
   ],
   "source": [
    "num = int(input(\"Enter an odd number: \"))\n",
    "c=num//2\n",
    "s=1\n",
    "for i in range(c+1):\n",
    "    print(c*\" \"+\"*\"*s)\n",
    "    c=c-1\n",
    "    s=s+2\n",
    "s=num-2\n",
    "c=1\n",
    "for i in range(num//2):\n",
    "    print(c*\" \"+\"*\"*s)\n",
    "    s=s-2\n",
    "    c=c+1"
   ]
  },
  {
   "cell_type": "markdown",
   "id": "45af2498",
   "metadata": {},
   "source": [
    "range(c + 1) ensures the loop runs from line 0 to the middle line.\n",
    "\n",
    "Line by line for num = 7:\n",
    "\n",
    "c=3, s=1 → ' *'\n",
    "\n",
    "c=2, s=3 → ' ***'\n",
    "\n",
    "c=1, s=5 → ' *****'\n",
    "\n",
    "c=0, s=7 → '*******'\n",
    "range(num // 2) runs for 3 lines (bottom half for 7).\n",
    "\n",
    "Line by line for num = 7:\n",
    "\n",
    "c=1, s=5 → ' *****'\n",
    "\n",
    "c=2, s=3 → ' ***'\n",
    "\n",
    "c=3, s=1 → ' *'\n"
   ]
  },
  {
   "cell_type": "markdown",
   "id": "87951355",
   "metadata": {},
   "source": [
    "Right sided triangle"
   ]
  },
  {
   "cell_type": "code",
   "execution_count": null,
   "id": "313a4dcd",
   "metadata": {},
   "outputs": [],
   "source": [
    "for i in range:\n",
    "    "
   ]
  },
  {
   "cell_type": "markdown",
   "id": "92848575",
   "metadata": {},
   "source": [
    "Randomizing the items of a List in python"
   ]
  },
  {
   "cell_type": "code",
   "execution_count": 3,
   "id": "76269ff2",
   "metadata": {},
   "outputs": [
    {
     "name": "stdout",
     "output_type": "stream",
     "text": [
      "['Easy', 'Python', 'is']\n"
     ]
    }
   ],
   "source": [
    "from random import shuffle\n",
    "list=['Python','is','Easy']\n",
    "shuffle(list)\n",
    "print(list)"
   ]
  },
  {
   "cell_type": "markdown",
   "id": "1e467201",
   "metadata": {},
   "source": []
  }
 ],
 "metadata": {
  "kernelspec": {
   "display_name": "Python 3",
   "language": "python",
   "name": "python3"
  },
  "language_info": {
   "codemirror_mode": {
    "name": "ipython",
    "version": 3
   },
   "file_extension": ".py",
   "mimetype": "text/x-python",
   "name": "python",
   "nbconvert_exporter": "python",
   "pygments_lexer": "ipython3",
   "version": "3.12.5"
  }
 },
 "nbformat": 4,
 "nbformat_minor": 5
}
