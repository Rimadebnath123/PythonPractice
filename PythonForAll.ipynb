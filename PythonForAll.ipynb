{
  "nbformat": 4,
  "nbformat_minor": 0,
  "metadata": {
    "colab": {
      "provenance": []
    },
    "kernelspec": {
      "name": "python3",
      "display_name": "Python 3"
    },
    "language_info": {
      "name": "python"
    }
  },
  "cells": [
    {
      "cell_type": "markdown",
      "source": [
        "**Project1**"
      ],
      "metadata": {
        "id": "v5qpZmyyWo5R"
      }
    },
    {
      "cell_type": "markdown",
      "source": [
        "at the start of the day you have a checklist\n",
        "the task which you were able to finish ,should get added to completed task.the task which you were not able to finish,should get added to incomplete task"
      ],
      "metadata": {
        "id": "pVK2CcT9UyCI"
      }
    },
    {
      "cell_type": "code",
      "source": [
        "# Initial checklist for the day\n",
        "checklist = [\n",
        "    \"Write project report\",\n",
        "    \"Attend team meeting\",\n",
        "    \"Review pull requests\",\n",
        "    \"Update project board\",\n",
        "    \"Reply to emails\"\n",
        "]\n",
        "\n",
        "completed_tasks = []\n",
        "incomplete_tasks = []\n",
        "\n",
        "print(\"Checklist for the day:\\n\")\n",
        "for i, task in enumerate(checklist, 1):\n",
        "    print(f\"{i}. {task}\")\n",
        "\n",
        "print(\"\\nEnter 'y' if the task is completed, or 'n' if not.\\n\")\n",
        "\n",
        "for task in checklist:\n",
        "    status = input(f\"Did you complete '{task}'? (y/n): \").strip().lower()\n",
        "    if status == 'y':\n",
        "        completed_tasks.append(task)\n",
        "    else:\n",
        "        incomplete_tasks.append(task)\n",
        "\n",
        "# Display results\n",
        "print(\"\\n Completed Tasks:\")\n",
        "for task in completed_tasks:\n",
        "    print(f\"- {task}\")\n",
        "\n",
        "print(\"\\n Incomplete Tasks:\")\n",
        "for task in incomplete_tasks:\n",
        "    print(f\"- {task}\")\n"
      ],
      "metadata": {
        "colab": {
          "base_uri": "https://localhost:8080/"
        },
        "id": "JxPD07_eU8vZ",
        "outputId": "c41c568e-90e3-4f86-b9bc-650b6f9140a3"
      },
      "execution_count": null,
      "outputs": [
        {
          "output_type": "stream",
          "name": "stdout",
          "text": [
            "Checklist for the day:\n",
            "\n",
            "1. Write project report\n",
            "2. Attend team meeting\n",
            "3. Review pull requests\n",
            "4. Update project board\n",
            "5. Reply to emails\n",
            "\n",
            "Enter 'y' if the task is completed, or 'n' if not.\n",
            "\n",
            "Did you complete 'Write project report'? (y/n): y\n",
            "Did you complete 'Attend team meeting'? (y/n): y\n",
            "Did you complete 'Review pull requests'? (y/n): n\n",
            "Did you complete 'Update project board'? (y/n): y\n",
            "Did you complete 'Reply to emails'? (y/n): n\n",
            "\n",
            " Completed Tasks:\n",
            "- Write project report\n",
            "- Attend team meeting\n",
            "- Update project board\n",
            "\n",
            " Incomplete Tasks:\n",
            "- Review pull requests\n",
            "- Reply to emails\n"
          ]
        }
      ]
    },
    {
      "cell_type": "markdown",
      "source": [
        "**Project2**"
      ],
      "metadata": {
        "id": "BB3srDiLW3zP"
      }
    },
    {
      "cell_type": "markdown",
      "source": [
        "Create a simple calculaltor that can perform basic arithmetic operation such as addition,subtraction,multiplication and division .each operation will be implimented as separate function and the user to choose which operation to perform ."
      ],
      "metadata": {
        "id": "ia6G4Z_VW7a2"
      }
    },
    {
      "cell_type": "code",
      "source": [
        "def Addition(a, b):\n",
        "    return a + b\n",
        "\n",
        "def Subtraction(a, b):\n",
        "    return a - b\n",
        "\n",
        "def Multiplication(a, b):\n",
        "    return a * b\n",
        "\n",
        "def Division(a, b):\n",
        "    if b == 0:\n",
        "        return \"Error: Division by zero\"\n",
        "    return a / b\n",
        "\n",
        "print(\"Select operation.\")\n",
        "print(\"1. Addition\")\n",
        "print(\"2. Subtraction\")\n",
        "print(\"3. Multiplication\")\n",
        "print(\"4. Division\")\n",
        "\n",
        "n = int(input(\"Enter choice (1/2/3/4): \"))\n",
        "a = int(input(\"Enter first number: \"))\n",
        "b = int(input(\"Enter second number: \"))\n",
        "\n",
        "if n == 1:\n",
        "    print(a, \"+\", b, \"=\", Addition(a, b))\n",
        "elif n == 2:\n",
        "    print(a, \"-\", b, \"=\", Subtraction(a, b))\n",
        "elif n == 3:\n",
        "    print(a, \"*\", b, \"=\", Multiplication(a, b))\n",
        "elif n == 4:\n",
        "    print(a, \"/\", b, \"=\", Division(a, b))\n",
        "else:\n",
        "    print(\"Invalid input.\")\n"
      ],
      "metadata": {
        "id": "dCe8BFG_W8VM",
        "colab": {
          "base_uri": "https://localhost:8080/"
        },
        "outputId": "cf82f90e-8237-4e4b-c4a5-37bcfcf6aec3"
      },
      "execution_count": null,
      "outputs": [
        {
          "output_type": "stream",
          "name": "stdout",
          "text": [
            "Select operation.\n",
            "1. Addition\n",
            "2. Subtraction\n",
            "3. Multiplication\n",
            "4. Division\n",
            "Enter choice (1/2/3/4): 1\n",
            "Enter first number: 10\n",
            "Enter second number: 20\n",
            "10 + 20 = 30\n"
          ]
        }
      ]
    },
    {
      "cell_type": "markdown",
      "source": [
        "Project3"
      ],
      "metadata": {
        "id": "0aeRO00EQYIR"
      }
    },
    {
      "cell_type": "markdown",
      "source": [
        "Lets say we have a list L1 = [1, 2, 2, 3, 2, 3, 4, 5], now\n",
        "identify the most repetitive element in the list?\n"
      ],
      "metadata": {
        "id": "cykQOF7OHaD2"
      }
    },
    {
      "cell_type": "code",
      "source": [
        "L1 = [1, 2, 2, 3, 2, 3, 4, 5]\n",
        "frequency = {}\n",
        "\n",
        "for i in L1:\n",
        "    if i in frequency:\n",
        "        frequency[i] += 1\n",
        "    else:\n",
        "        frequency[i] = 1\n",
        "\n",
        "# Step 3: Find the most frequent element\n",
        "max_count = 0\n",
        "most_frequent = None\n",
        "\n",
        "for key in frequency:\n",
        "    if frequency[key] > max_count:\n",
        "        max_count = frequency[key]\n",
        "        most_frequent = key\n",
        "\n",
        "print(f\"Most repetitive element: {most_frequent}\")\n",
        "print(f\"Repetitions: {max_count}\")\n"
      ],
      "metadata": {
        "id": "6FTcWm-eQW0Y",
        "colab": {
          "base_uri": "https://localhost:8080/"
        },
        "outputId": "2e32ba25-0e31-4f23-b2a0-ecfc832ad448"
      },
      "execution_count": 2,
      "outputs": [
        {
          "output_type": "stream",
          "name": "stdout",
          "text": [
            "Most repetitive element: 2\n",
            "Repetitions: 3\n"
          ]
        }
      ]
    },
    {
      "cell_type": "markdown",
      "source": [
        "Anagram.\n",
        "A) silent, listen\n",
        "B) hover, power\n",
        "Which of the sets are anagram among A & B?\n",
        "ans is A"
      ],
      "metadata": {
        "id": "f92_iePcH0Cl"
      }
    },
    {
      "cell_type": "code",
      "source": [],
      "metadata": {
        "id": "oyHl-f0fH6Xo"
      },
      "execution_count": null,
      "outputs": []
    }
  ]
}