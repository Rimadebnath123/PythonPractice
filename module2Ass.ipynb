{
  "nbformat": 4,
  "nbformat_minor": 0,
  "metadata": {
    "colab": {
      "provenance": []
    },
    "kernelspec": {
      "name": "python3",
      "display_name": "Python 3"
    },
    "language_info": {
      "name": "python"
    }
  },
  "cells": [
    {
      "cell_type": "code",
      "execution_count": null,
      "metadata": {
        "colab": {
          "base_uri": "https://localhost:8080/"
        },
        "id": "s6QzrJYY_x5d",
        "outputId": "98aae8c8-301c-4ec0-84dd-006d3e8cb994"
      },
      "outputs": [
        {
          "output_type": "stream",
          "name": "stdout",
          "text": [
            "Enter the first no:20\n",
            "Enter the second no:2\n",
            "Enter the operator(+,-,*,/):/\n",
            "Result:  10.0\n"
          ]
        }
      ],
      "source": [
        "a=int(input(\"Enter the first no:\"))\n",
        "b=int(input(\"Enter the second no:\"))\n",
        "opr=input(\"Enter the operator(+,-,*,/):\")\n",
        "if opr==\"+\":\n",
        "    print(\"Result: \",a+b)\n",
        "elif opr==\"-\":\n",
        "    print(\"Result: \",a-b)\n",
        "elif opr==\"*\":\n",
        "    print(\"Result: \",a*b)\n",
        "elif opr==\"/\":\n",
        "    print(\"Result: \",a/b)\n",
        "else:\n",
        "    print(\"Invalid operator\")\n",
        "\n"
      ]
    },
    {
      "cell_type": "code",
      "source": [
        "n=int(input(\"Enter the total no of items:\"))\n",
        "total=0\n",
        "for i in range (n):\n",
        "  price = float(input(f\"Enter the price of item {i + 1}: \"))\n",
        "  total += price\n",
        "\n",
        "if total>=50 and total<=100:\n",
        "    dis = total * 0.05\n",
        "elif total > 100:\n",
        "    dis = total * 0.1\n",
        "else:\n",
        "    dis = 0\n",
        "\n",
        "print(f\"Total discount: {dis}\")"
      ],
      "metadata": {
        "colab": {
          "base_uri": "https://localhost:8080/"
        },
        "id": "-iAplvT4CFd-",
        "outputId": "14c73f02-d5cb-4fa3-b1ea-2c96ce182838"
      },
      "execution_count": null,
      "outputs": [
        {
          "output_type": "stream",
          "name": "stdout",
          "text": [
            "Enter the total no of items:5\n",
            "Enter the price of item 1: 10\n",
            "Enter the price of item 2: 15\n",
            "Enter the price of item 3: 20\n",
            "Enter the price of item 4: 5\n",
            "Enter the price of item 5: 10\n",
            "Total discount: 3.0\n"
          ]
        }
      ]
    },
    {
      "cell_type": "code",
      "source": [
        "a = int(input(\"Enter the first number: \"))\n",
        "b = int(input(\"Enter the second number: \"))\n",
        "\n",
        "print(f\"{a} == {b}:\", a == b)\n",
        "print(f\"{a} != {b}:\", a != b)\n",
        "print(f\"{a} > {b}:\", a > b)\n",
        "print(f\"{a} < {b}:\", a < b)\n",
        "print(f\"{a} >= {b}:\", a >= b)\n",
        "print(f\"{a} <= {b}:\", a <= b)\n"
      ],
      "metadata": {
        "colab": {
          "base_uri": "https://localhost:8080/"
        },
        "id": "v3N6mPFxHt55",
        "outputId": "24b5ea10-1ff5-434a-f195-2b01f87db465"
      },
      "execution_count": null,
      "outputs": [
        {
          "output_type": "stream",
          "name": "stdout",
          "text": [
            "Enter the first number: 10\n",
            "Enter the second number: 8\n",
            "10 == 8: False\n",
            "10 != 8: True\n",
            "10 > 8: True\n",
            "10 < 8: False\n",
            "10 >= 8: True\n",
            "10 <= 8: False\n"
          ]
        }
      ]
    },
    {
      "cell_type": "code",
      "source": [
        "x = input().strip().lower() == \"true\"\n",
        "y = input().strip().lower() == \"true\"\n",
        "\n",
        "print(f\"x and y: {x and y}\")\n",
        "print(f\"x or y: {x or y}\")\n",
        "print(f\"not x: {not x}\")\n"
      ],
      "metadata": {
        "colab": {
          "base_uri": "https://localhost:8080/"
        },
        "id": "IS8YTNn0NMro",
        "outputId": "b51ae870-aa73-483c-9adf-4b487c0b64fa"
      },
      "execution_count": null,
      "outputs": [
        {
          "output_type": "stream",
          "name": "stdout",
          "text": [
            "true\n",
            "false\n",
            "x and y: False\n",
            "x or y: True\n",
            "not x: False\n"
          ]
        }
      ]
    }
  ]
}