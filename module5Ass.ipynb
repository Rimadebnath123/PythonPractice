{
  "nbformat": 4,
  "nbformat_minor": 0,
  "metadata": {
    "colab": {
      "provenance": []
    },
    "kernelspec": {
      "name": "python3",
      "display_name": "Python 3"
    },
    "language_info": {
      "name": "python"
    }
  },
  "cells": [
    {
      "cell_type": "code",
      "execution_count": null,
      "metadata": {
        "colab": {
          "base_uri": "https://localhost:8080/"
        },
        "id": "Et2r1-K4PETk",
        "outputId": "7f031d2d-f01b-4146-dc09-5d8397cd3578"
      },
      "outputs": [
        {
          "output_type": "stream",
          "name": "stdout",
          "text": [
            "Enter the 1st no:10\n",
            "Enter the 2nd no:2\n",
            "Enter the operation:/\n",
            "division is : 5.0\n"
          ]
        }
      ],
      "source": [
        "def add(n1,n2):\n",
        "  res=n1+n2\n",
        "  return res\n",
        "\n",
        "def sub(n1,n2):\n",
        "  res=n1-n2\n",
        "  return res\n",
        "\n",
        "def mul(n1,n2):\n",
        "  res=n1*n2\n",
        "  return res\n",
        "\n",
        "def div(n1,n2):\n",
        "  res=n1/n2\n",
        "  return res\n",
        "\n",
        "n1=int(input(\"Enter the 1st no:\"))\n",
        "n2=int(input(\"Enter the 2nd no:\"))\n",
        "operation=input(\"Enter the operation:\")\n",
        "\n",
        "if operation ==\"+\":\n",
        "    print(\"Sum is :\",add(n1,n2))\n",
        "\n",
        "if operation ==\"-\":\n",
        "    print(\"Subtract is :\",sub(n1,n2))\n",
        "\n",
        "if operation ==\"*\":\n",
        "    print(\"Multiplication is :\",mul(n1,n2))\n",
        "\n",
        "if operation ==\"/\":\n",
        "    print(\"division is :\",div(n1,n2))"
      ]
    },
    {
      "cell_type": "code",
      "source": [
        "class BankAccount:\n",
        "  def __init__(self,name,balance):\n",
        "    self.name = name\n",
        "    self.balance = balance\n",
        "\n",
        "  def deposit(self, amount):\n",
        "    self.balance += amount\n",
        "    return self.balance\n",
        "\n",
        "  def withdrawal(self, amount):\n",
        "     if self.balance >= amount:\n",
        "       self.balance -= amount\n",
        "       return self.balance\n",
        "     else:\n",
        "       return \"Insufficient funds\"\n",
        "\n",
        "  def display(self):\n",
        "      return self.balance\n",
        "\n",
        "obj = BankAccount(\"Rishita\", 2000)\n",
        "\n",
        "print(obj.deposit(500))\n",
        "print(obj.withdrawal(200))\n",
        "print(obj.display())"
      ],
      "metadata": {
        "colab": {
          "base_uri": "https://localhost:8080/"
        },
        "id": "l2XqTCkFTGF6",
        "outputId": "a2943a31-9860-4a0e-c84e-025b0c9034a3"
      },
      "execution_count": null,
      "outputs": [
        {
          "output_type": "stream",
          "name": "stdout",
          "text": [
            "2500\n",
            "2300\n",
            "2300\n"
          ]
        }
      ]
    },
    {
      "cell_type": "code",
      "source": [
        "class Employee:\n",
        "  def __init__(self,id,name,salary):\n",
        "    self.id=id\n",
        "    self.name=name\n",
        "    self.salary=salary\n",
        "\n",
        "  def display(self):\n",
        "    return f\"the employee id is {self.id} name is {self.name} salary is {self.salary}\"\n",
        "\n",
        "obj=Employee(101,\"Rishita\",20000)\n",
        "obj1=Employee(102,\"Rishi\",30000)\n",
        "obj2=Employee(103,\"Moni\",70000)\n",
        "print(obj.display())\n",
        "print(obj1.display())\n",
        "print(obj2.display())\n"
      ],
      "metadata": {
        "colab": {
          "base_uri": "https://localhost:8080/"
        },
        "id": "V06aTRjeXy81",
        "outputId": "d17d269c-ef84-4de1-87f0-948a8f32e744"
      },
      "execution_count": null,
      "outputs": [
        {
          "output_type": "stream",
          "name": "stdout",
          "text": [
            "the employee id is 101 name is Rishita salary is 20000\n",
            "the employee id is 102 name is Rishi salary is 30000\n",
            "the employee id is 103 name is Moni salary is 70000\n"
          ]
        }
      ]
    },
    {
      "cell_type": "code",
      "source": [
        "class Student:\n",
        "    def __init__(self, name, age, grades):\n",
        "        self.name = name\n",
        "        self.age = age\n",
        "        self.grades = grades\n",
        "\n",
        "    def calculate_student_avg_grade(self):\n",
        "        if not self.grades:\n",
        "            return 0\n",
        "        return sum(self.grades) / len(self.grades)\n",
        "\n",
        "    def display(self):\n",
        "        avg_grade = self.calculate_student_avg_grade()\n",
        "        return f\"Name: {self.name}, Age: {self.age}, Grades: {self.grades}, Average Grade: {avg_grade:.2f}\"\n",
        "\n",
        "\n",
        "stu_list = []\n",
        "\n",
        "while True:\n",
        "    name = input(\"Enter student name (or 'done' to finish): \")\n",
        "    if name.lower() == 'done':\n",
        "        break\n",
        "    age = int(input(f\"Enter {name}'s age: \"))\n",
        "\n",
        "    grades_list = []\n",
        "    print(f\"Enter {name}'s grades (enter 'done' when finished with grades):\")\n",
        "    while True:\n",
        "        grade_input = input(\"Enter grade: \")\n",
        "        if grade_input.lower() == 'done':\n",
        "            break\n",
        "        try:\n",
        "            grade = float(grade_input)\n",
        "            grades_list.append(grade)\n",
        "        except ValueError:\n",
        "            print(\"Invalid input. Please enter a number for the grade.\")\n",
        "\n",
        "    stu = Student(name, age, grades_list)\n",
        "    stu_list.append(stu)\n",
        "\n",
        "print(\"\\n--- Student Information ---\")\n",
        "for student in stu_list:\n",
        "    print(student.display())\n"
      ],
      "metadata": {
        "colab": {
          "base_uri": "https://localhost:8080/"
        },
        "id": "QXnAtV2jb8zO",
        "outputId": "3c4bd96a-8dde-4f62-954c-def34c215773"
      },
      "execution_count": null,
      "outputs": [
        {
          "output_type": "stream",
          "name": "stdout",
          "text": [
            "Enter student name (or 'done' to finish): sruti\n",
            "Enter sruti's age: 22\n",
            "Enter sruti's grades (enter 'done' when finished with grades):\n",
            "Enter grade: 5\n",
            "Enter grade: 8\n",
            "Enter grade: 9\n",
            "Enter grade: 10\n",
            "Enter grade: done\n",
            "Enter student name (or 'done' to finish): Rimi\n",
            "Enter Rimi's age: 23\n",
            "Enter Rimi's grades (enter 'done' when finished with grades):\n",
            "Enter grade: 7\n",
            "Enter grade: 9\n",
            "Enter grade: 8\n",
            "Enter grade: 5\n",
            "Enter grade: done\n",
            "Enter student name (or 'done' to finish): done\n",
            "\n",
            "--- Student Information ---\n",
            "Name: sruti, Age: 22, Grades: [5.0, 8.0, 9.0, 10.0], Average Grade: 8.00\n",
            "Name: Rimi, Age: 23, Grades: [7.0, 9.0, 8.0, 5.0], Average Grade: 7.25\n"
          ]
        }
      ]
    },
    {
      "cell_type": "code",
      "source": [
        "class Book:\n",
        "    def __init__(self, title, author, quantity):\n",
        "        self.title = title\n",
        "        self.author = author\n",
        "        self.quantity = quantity\n",
        "\n",
        "class Bookstore:\n",
        "    def __init__(self):\n",
        "        self.inventory = []\n",
        "\n",
        "    def add_book(self, title, author, quantity):\n",
        "        for book in self.inventory:\n",
        "            if book.title == title and book.author == author:\n",
        "                book.quantity += quantity\n",
        "                print(f\"Added {quantity} more of '{title}' by {author}.\")\n",
        "                return\n",
        "        new_book = Book(title, author, quantity)\n",
        "        self.inventory.append(new_book)\n",
        "        print(f\"Added new book: '{title}' by {author}, quantity: {quantity}\")\n",
        "\n",
        "    def sell_book(self, title, quantity):\n",
        "        for book in self.inventory:\n",
        "            if book.title == title:\n",
        "                if book.quantity >= quantity:\n",
        "                    book.quantity -= quantity\n",
        "                    print(f\"Sold {quantity} of '{title}'.\")\n",
        "                    if book.quantity == 0:\n",
        "                        print(f\"'{title}' is now out of stock.\")\n",
        "                    return\n",
        "                else:\n",
        "                    print(f\"Not enough copies of '{title}' to sell.\")\n",
        "                    return\n",
        "        print(f\"Book '{title}' not found in inventory.\")\n",
        "\n",
        "    def display_inventory(self):\n",
        "        if not self.inventory:\n",
        "            print(\"No books in inventory.\")\n",
        "            return\n",
        "        print(\"Current Inventory:\")\n",
        "        for book in self.inventory:\n",
        "            print(f\"Title: {book.title}, Author: {book.author}, Quantity: {book.quantity}\")\n",
        "\n",
        "# Test the system\n",
        "store = Bookstore()\n",
        "\n",
        "# Add books\n",
        "store.add_book(\"Python Basics\", \"John Doe\", 5)\n",
        "store.add_book(\"Python Basics\", \"John Doe\", 2)\n",
        "store.add_book(\"Learning Java\", \"Jane Smith\", 3)\n",
        "\n",
        "# Display inventory\n",
        "store.display_inventory()\n",
        "\n",
        "# Sell books\n",
        "store.sell_book(\"Python Basics\", 3)\n",
        "store.sell_book(\"Learning Java\", 1)\n",
        "\n",
        "# Display updated inventory\n",
        "store.display_inventory()\n"
      ],
      "metadata": {
        "id": "jsFkQzDGdrw-",
        "colab": {
          "base_uri": "https://localhost:8080/"
        },
        "outputId": "3efadcf1-5673-4abf-cfad-bff83e656a4d"
      },
      "execution_count": null,
      "outputs": [
        {
          "output_type": "stream",
          "name": "stdout",
          "text": [
            "Added new book: 'Python Basics' by John Doe, quantity: 5\n",
            "Added 2 more of 'Python Basics' by John Doe.\n",
            "Added new book: 'Learning Java' by Jane Smith, quantity: 3\n",
            "Current Inventory:\n",
            "Title: Python Basics, Author: John Doe, Quantity: 7\n",
            "Title: Learning Java, Author: Jane Smith, Quantity: 3\n",
            "Sold 3 of 'Python Basics'.\n",
            "Sold 1 of 'Learning Java'.\n",
            "Current Inventory:\n",
            "Title: Python Basics, Author: John Doe, Quantity: 4\n",
            "Title: Learning Java, Author: Jane Smith, Quantity: 2\n"
          ]
        }
      ]
    }
  ]
}