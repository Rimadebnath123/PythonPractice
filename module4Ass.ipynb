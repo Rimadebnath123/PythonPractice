{
  "nbformat": 4,
  "nbformat_minor": 0,
  "metadata": {
    "colab": {
      "provenance": []
    },
    "kernelspec": {
      "name": "python3",
      "display_name": "Python 3"
    },
    "language_info": {
      "name": "python"
    }
  },
  "cells": [
    {
      "cell_type": "code",
      "execution_count": null,
      "metadata": {
        "colab": {
          "base_uri": "https://localhost:8080/"
        },
        "id": "oYKLgNtcGyiP",
        "outputId": "575ce64f-0c4d-44d8-8c70-acf0f0ff3222"
      },
      "outputs": [
        {
          "name": "stdout",
          "output_type": "stream",
          "text": [
            "\n",
            "Options:\n",
            "1. Add a new contact\n",
            "2. Search for a contact\n",
            "3. Display all contacts\n",
            "4. Exit\n",
            "Enter your choice: 1\n",
            "Enter contact name: Rima\n",
            "Enter phone number: 8976546908\n",
            "Contact added successfully!\n",
            "\n",
            "Options:\n",
            "1. Add a new contact\n",
            "2. Search for a contact\n",
            "3. Display all contacts\n",
            "4. Exit\n",
            "Enter your choice: 3\n",
            "All Contacts:\n",
            "Rima : 8976546908\n",
            "\n",
            "Options:\n",
            "1. Add a new contact\n",
            "2. Search for a contact\n",
            "3. Display all contacts\n",
            "4. Exit\n",
            "Enter your choice: 1\n",
            "Enter contact name: jhon\n",
            "Enter phone number: 9596544560\n",
            "Contact added successfully!\n",
            "\n",
            "Options:\n",
            "1. Add a new contact\n",
            "2. Search for a contact\n",
            "3. Display all contacts\n",
            "4. Exit\n",
            "Enter your choice: 3\n",
            "All Contacts:\n",
            "Rima : 8976546908\n",
            "jhon : 9596544560\n",
            "\n",
            "Options:\n",
            "1. Add a new contact\n",
            "2. Search for a contact\n",
            "3. Display all contacts\n",
            "4. Exit\n",
            "Enter your choice: 2\n",
            "Enter contact name to search: jhon\n",
            "Phone number: 9596544560\n",
            "\n",
            "Options:\n",
            "1. Add a new contact\n",
            "2. Search for a contact\n",
            "3. Display all contacts\n",
            "4. Exit\n",
            "Enter your choice: 4\n"
          ]
        }
      ],
      "source": [
        "contact_book = {}\n",
        "\n",
        "while True:\n",
        "    print(\"\\nOptions:\")\n",
        "    print(\"1. Add a new contact\")\n",
        "    print(\"2. Search for a contact\")\n",
        "    print(\"3. Display all contacts\")\n",
        "    print(\"4. Exit\")\n",
        "\n",
        "    choice = input(\"Enter your choice: \")\n",
        "\n",
        "    if choice == '1':\n",
        "        name = input(\"Enter contact name: \")\n",
        "        phone = input(\"Enter phone number: \")\n",
        "        contact_book[name] = phone  # Add contact to the dictionary\n",
        "        print(\"Contact added successfully!\")\n",
        "\n",
        "    elif choice == '2':\n",
        "        name = input(\"Enter contact name to search: \")\n",
        "        if name in contact_book:\n",
        "            print(\"Phone number:\", contact_book[name])\n",
        "        else:\n",
        "            print(\"Contact not found.\")\n",
        "\n",
        "    elif choice == '3':\n",
        "        if contact_book:\n",
        "            print(\"All Contacts:\")\n",
        "            for name, phone in contact_book.items():\n",
        "                print(name, \":\", phone)\n",
        "        else:\n",
        "            print(\"Contact book is empty.\")\n",
        "\n",
        "    elif choice == '4':\n",
        "        break  # Exit the loop\n",
        "\n",
        "    else:\n",
        "        print(\"Invalid choice. Please try again.\")"
      ]
    },
    {
      "cell_type": "code",
      "source": [
        "set1 = set(input(\"Enter the first set: \").split())\n",
        "set2 = set(input(\"Enter the second set: \").split())\n",
        "intersec = set1.intersection(set2)\n",
        "print(\"Intersection of the two sets:\", intersec)"
      ],
      "metadata": {
        "colab": {
          "base_uri": "https://localhost:8080/"
        },
        "id": "Sf4cSdGeKrNO",
        "outputId": "46110b96-98b9-45c1-fcfd-ffbf7763d1ce"
      },
      "execution_count": null,
      "outputs": [
        {
          "output_type": "stream",
          "name": "stdout",
          "text": [
            "Enter the first set: 1 4 7 9\n",
            "Enter the second set: 2 4 7 5\n",
            "Intersection of the two sets: {'4', '7'}\n"
          ]
        }
      ]
    },
    {
      "cell_type": "code",
      "source": [
        "inventory = {}\n",
        "\n",
        "while True:\n",
        "    print(\"\\nOptions:\")\n",
        "    print(\"1. Add new item\")\n",
        "    print(\"2. Update item quantity\")\n",
        "    print(\"3. Display inventory\")\n",
        "    print(\"4. Exit\")\n",
        "\n",
        "    choice = input(\"Enter your choice: \")\n",
        "\n",
        "    if choice == '1':\n",
        "        item_name = input(\"Enter item name: \")\n",
        "        quantity = int(input(\"Enter quantity: \"))\n",
        "        inventory[item_name] = quantity\n",
        "        print(\"Item added to inventory!\")\n",
        "\n",
        "    elif choice == '2':\n",
        "        item_name = input(\"Enter item name to update: \")\n",
        "        if item_name in inventory:\n",
        "            quantity = int(input(\"Enter new quantity: \"))\n",
        "            inventory[item_name] = quantity\n",
        "            print(\"Item quantity updated!\")\n",
        "        else:\n",
        "            print(\"Item not found in inventory.\")\n",
        "\n",
        "    elif choice == '3':\n",
        "        if inventory:\n",
        "            print(\"\\nCurrent Inventory:\")\n",
        "            for item_name, quantity in inventory.items():\n",
        "                print(f\"{item_name}: {quantity}\")\n",
        "        else:\n",
        "            print(\"Inventory is empty.\")\n",
        "\n",
        "    elif choice == '4':\n",
        "        break\n",
        "\n",
        "    else:\n",
        "        print(\"Invalid choice. Please try again.\")"
      ],
      "metadata": {
        "colab": {
          "base_uri": "https://localhost:8080/"
        },
        "id": "T5A9-0E7PLIN",
        "outputId": "85e19706-b968-4801-d7de-c5b9bb5d77da"
      },
      "execution_count": null,
      "outputs": [
        {
          "name": "stdout",
          "output_type": "stream",
          "text": [
            "\n",
            "Options:\n",
            "1. Add new item\n",
            "2. Update item quantity\n",
            "3. Display inventory\n",
            "4. Exit\n",
            "Enter your choice: 1\n",
            "Enter item name: Fan\n",
            "Enter quantity: 4\n",
            "Item added to inventory!\n",
            "\n",
            "Options:\n",
            "1. Add new item\n",
            "2. Update item quantity\n",
            "3. Display inventory\n",
            "4. Exit\n",
            "Enter your choice: 2\n",
            "Enter item name to update: Fan\n",
            "Enter new quantity: 5\n",
            "Item quantity updated!\n",
            "\n",
            "Options:\n",
            "1. Add new item\n",
            "2. Update item quantity\n",
            "3. Display inventory\n",
            "4. Exit\n",
            "Enter your choice: 3\n",
            "\n",
            "Current Inventory:\n",
            "Fan: 5\n",
            "\n",
            "Options:\n",
            "1. Add new item\n",
            "2. Update item quantity\n",
            "3. Display inventory\n",
            "4. Exit\n",
            "Enter your choice: 4\n"
          ]
        }
      ]
    },
    {
      "cell_type": "code",
      "source": [
        "n = tuple(map(int, input(\"Enter the numbers: \").split()))\n",
        "maximum=max(n)\n",
        "minimum=min(n)\n",
        "print(\"Maximum number is:\",maximum)\n",
        "print(\"Minimum number is:\",minimum)\n",
        "sum=0\n",
        "for i in n:\n",
        "  sum=sum+i\n",
        "print(\"Sum of the numbers is:\",sum)"
      ],
      "metadata": {
        "colab": {
          "base_uri": "https://localhost:8080/"
        },
        "id": "Wf1vG3dfPCpS",
        "outputId": "5ff93571-3edd-4271-be56-b3dc78fa8ffe"
      },
      "execution_count": null,
      "outputs": [
        {
          "output_type": "stream",
          "name": "stdout",
          "text": [
            "Enter the numbers: 2 7 9 12 15 73\n",
            "Maximum number is: 73\n",
            "Minimum number is: 2\n",
            "Sum of the numbers is: 118\n"
          ]
        }
      ]
    },
    {
      "cell_type": "code",
      "source": [
        "\n",
        "sentence = input(\"Enter a sentence: \")\n",
        "words = sentence.lower().split()\n",
        "unique_words = set(words)\n",
        "\n",
        "print(\"Unique words in the sentence:\")\n",
        "for word in unique_words:\n",
        "    print(word)"
      ],
      "metadata": {
        "colab": {
          "base_uri": "https://localhost:8080/"
        },
        "id": "xlqpDHDETWkx",
        "outputId": "26fec9b0-2cf5-42da-e86e-3317c3438e8c"
      },
      "execution_count": null,
      "outputs": [
        {
          "output_type": "stream",
          "name": "stdout",
          "text": [
            "Enter a sentence: this is a sample sentence with sample words\n",
            "Unique words in the sentence:\n",
            "this\n",
            "words\n",
            "is\n",
            "with\n",
            "sample\n",
            "a\n",
            "sentence\n"
          ]
        }
      ]
    }
  ]
}