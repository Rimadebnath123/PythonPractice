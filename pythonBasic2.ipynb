{
 "cells": [
  {
   "cell_type": "markdown",
   "metadata": {},
   "source": [
    "String Methods\n",
    "Python has a set of built-in methods that you can use on strings.\n",
    "\n",
    "capitalize()\tConverts the first character to upper case\n",
    "\n",
    "casefold()\tConverts string into lower case\n",
    "\n",
    "center()\tReturns a centered string\n",
    "\n",
    "count()\tReturns the number of times a specified value occurs in a string\n",
    "\n",
    "encode()\tReturns an encoded version of the string\n",
    "\n",
    "endswith()\tReturns true if the string ends with the specified value\n",
    "\n",
    "expandtabs()\tSets the tab size of the string\n",
    "\n",
    "find()\tSearches the string for a specified value and returns the position of where it was found\n",
    "\n",
    "format()\tFormats specified values in a string\n",
    "\n",
    "format_map()\tFormats specified values in a string\n",
    "\n",
    "index()\tSearches the string for a specified value and returns the position of where it was found\n",
    "\n",
    "isalnum()\tReturns True if all characters in the string are alphanumeric\n",
    "\n",
    "isalpha()\tReturns True if all characters in the string are in the alphabet\n",
    "\n",
    "isascii()\tReturns True if all characters in the string are ascii characters\n",
    "\n",
    "isdecimal()\tReturns True if all characters in the string are decimals\n",
    "\n",
    "isdigit()\tReturns True if all characters in the string are digits\n",
    "\n",
    "isidentifier()\tReturns True if the string is an identifier\n",
    "\n",
    "islower()\tReturns True if all characters in the string are lower case\n",
    "\n",
    "isnumeric()\tReturns True if all characters in the string are numeric\n",
    "\n",
    "isprintable()\tReturns True if all characters in the string are printable\n",
    "\n",
    "isspace()\tReturns True if all characters in the string are whitespaces\n",
    "\n",
    "istitle()\tReturns True if the string follows the rules of a title\n",
    "\n",
    "isupper()\tReturns True if all characters in the string are upper case\n",
    "\n",
    "join()\tJoins the elements of an iterable to the end of the string\n",
    "\n",
    "ljust()\tReturns a left justified version of the string\n",
    "\n",
    "lower()\tConverts a string into lower case\n",
    "\n",
    "lstrip()\tReturns a left trim version of the string\n",
    "\n",
    "maketrans()\tReturns a translation table to be used in translations\n",
    "\n",
    "partition()\tReturns a tuple where the string is parted into three parts\n",
    "\n",
    "replace()\tReturns a string where a specified value is replaced with a specified value\n",
    "\n",
    "rfind()\tSearches the string for a specified value and returns the last position of where it was found\n",
    "\n",
    "rindex()\tSearches the string for a specified value and returns the last position of where it was found\n",
    "\n",
    "rjust()\tReturns a right justified version of the string\n",
    "\n",
    "rpartition()\tReturns a tuple where the string is parted into three parts\n",
    "\n",
    "rsplit()\tSplits the string at the specified separator, and returns a list\n",
    "\n",
    "rstrip()\tReturns a right trim version of the string\n",
    "\n",
    "split()\tSplits the string at the specified separator, and returns a list\n",
    "\n",
    "splitlines()\tSplits the string at line breaks and returns a list\n",
    "\n",
    "startswith()\tReturns true if the string starts with the specified value\n",
    "\n",
    "strip()\tReturns a trimmed version of the string\n",
    "\n",
    "swapcase()\tSwaps cases, lower case becomes upper case and vice versa\n",
    "\n",
    "title()\tConverts the first character of each word to upper case\n",
    "\n",
    "translate()\tReturns a translated string\n",
    "\n",
    "upper()\tConverts a string into upper case\n",
    "\n",
    "zfill()\tFills the string with a specified number of 0 values at the beginning\n"
   ]
  },
  {
   "cell_type": "code",
   "execution_count": 2,
   "metadata": {},
   "outputs": [
    {
     "name": "stdout",
     "output_type": "stream",
     "text": [
      "Hello, and welcome to my world.\n"
     ]
    }
   ],
   "source": [
    "txt = \"hello, and welcome to my world.\"\n",
    "x = txt.capitalize()\n",
    "print(x)"
   ]
  },
  {
   "cell_type": "code",
   "execution_count": 5,
   "metadata": {},
   "outputs": [
    {
     "name": "stdout",
     "output_type": "stream",
     "text": [
      "hello, and welcome to my world!\n"
     ]
    }
   ],
   "source": [
    "# Make the string lower case:\n",
    "txt = \"HellO, And Welcome To My World!\"\n",
    "x = txt.casefold()\n",
    "print(x)"
   ]
  },
  {
   "cell_type": "code",
   "execution_count": 8,
   "metadata": {},
   "outputs": [
    {
     "name": "stdout",
     "output_type": "stream",
     "text": [
      "OOOOOOObananaOOOOOOO\n"
     ]
    }
   ],
   "source": [
    "txt = \"banana\"\n",
    "# x = txt.center(20)\n",
    "x = txt.center(20, \"O\")\n",
    "print(x)"
   ]
  },
  {
   "cell_type": "code",
   "execution_count": 10,
   "metadata": {},
   "outputs": [
    {
     "name": "stdout",
     "output_type": "stream",
     "text": [
      "7\n"
     ]
    }
   ],
   "source": [
    "txt = \"Hello, welcome to my world.\"\n",
    "x = txt.find(\"welcome\")\n",
    "print(x)"
   ]
  },
  {
   "cell_type": "code",
   "execution_count": 11,
   "metadata": {},
   "outputs": [
    {
     "name": "stdout",
     "output_type": "stream",
     "text": [
      "For only 49.00 dollars!\n"
     ]
    }
   ],
   "source": [
    "txt = \"For only {price:.2f} dollars!\"\n",
    "print(txt.format(price=49))\n"
   ]
  },
  {
   "cell_type": "code",
   "execution_count": 14,
   "metadata": {},
   "outputs": [
    {
     "name": "stdout",
     "output_type": "stream",
     "text": [
      "8\n"
     ]
    }
   ],
   "source": [
    "txt = \"Hello, welcome to my world.\"\n",
    "# x = txt.index(\"welcome\")\n",
    "x = txt.index(\"e\", 5, 10)\n",
    "# x = txt.index(\"e\")\n",
    "print(x)"
   ]
  },
  {
   "cell_type": "markdown",
   "metadata": {},
   "source": [
    "If the value is not found, the find() method returns -1, but the index() method will raise an exception:"
   ]
  },
  {
   "cell_type": "code",
   "execution_count": 17,
   "metadata": {},
   "outputs": [
    {
     "name": "stdout",
     "output_type": "stream",
     "text": [
      "True\n",
      "False\n"
     ]
    }
   ],
   "source": [
    "txt = \"Company12\"\n",
    "txt1 = \"Company 12\"\n",
    "x = txt.isalnum()\n",
    "y = txt1.isalnum()\n",
    "print(x)\n",
    "print(y)\n"
   ]
  },
  {
   "cell_type": "code",
   "execution_count": 18,
   "metadata": {},
   "outputs": [
    {
     "name": "stdout",
     "output_type": "stream",
     "text": [
      "False\n",
      "True\n",
      "False\n"
     ]
    }
   ],
   "source": [
    "a = \"Hello world!\"\n",
    "b = \"hello 123\"\n",
    "c = \"mynameisPeter\"\n",
    "\n",
    "print(a.islower())\n",
    "print(b.islower())\n",
    "print(c.islower())\n"
   ]
  },
  {
   "cell_type": "code",
   "execution_count": 20,
   "metadata": {},
   "outputs": [
    {
     "name": "stdout",
     "output_type": "stream",
     "text": [
      "True\n"
     ]
    }
   ],
   "source": [
    "# txt = \"   s   \" #false\n",
    "txt = \"   \"\n",
    "x = txt.isspace()\n",
    "print(x)"
   ]
  },
  {
   "cell_type": "code",
   "execution_count": 21,
   "metadata": {},
   "outputs": [
    {
     "name": "stdout",
     "output_type": "stream",
     "text": [
      "True\n"
     ]
    }
   ],
   "source": [
    "txt = \"THIS IS NOW!\"\n",
    "x = txt.isupper()\n",
    "print(x)\n"
   ]
  },
  {
   "cell_type": "code",
   "execution_count": 24,
   "metadata": {},
   "outputs": [
    {
     "name": "stdout",
     "output_type": "stream",
     "text": [
      "John#Peter#Vicky\n",
      "nameTESTcountry\n"
     ]
    }
   ],
   "source": [
    "myTuple = (\"John\", \"Peter\", \"Vicky\")\n",
    "x = \"#\".join(myTuple)\n",
    "print(x)\n",
    "myDict = {\"name\": \"John\", \"country\": \"Norway\"}  # dictionary into a string\n",
    "mySeparator = \"TEST\"\n",
    "\n",
    "y = mySeparator.join(myDict)\n",
    "print(y)\n"
   ]
  },
  {
   "cell_type": "code",
   "execution_count": 25,
   "metadata": {},
   "outputs": [
    {
     "name": "stdout",
     "output_type": "stream",
     "text": [
      "hello my friends\n"
     ]
    }
   ],
   "source": [
    "txt = \"Hello my FRIENDS\"\n",
    "x = txt.lower()\n",
    "print(x)\n"
   ]
  },
  {
   "cell_type": "code",
   "execution_count": 27,
   "metadata": {},
   "outputs": [
    {
     "name": "stdout",
     "output_type": "stream",
     "text": [
      "I like apples\n",
      "three three was a race horse, two two was one too.\n"
     ]
    }
   ],
   "source": [
    "txt = \"I like bananas\"\n",
    "x = txt.replace(\"bananas\", \"apples\")\n",
    "print(x)\n",
    "txt1 = \"one one was a race horse, two two was one too.\"\n",
    "# y = txt1.replace(\"one\", \"three\") replace all\n",
    "y = txt1.replace(\"one\", \"three\", 2)\n",
    "print(y)\n"
   ]
  },
  {
   "cell_type": "markdown",
   "metadata": {},
   "source": [
    "The rfind() method finds the last occurrence of the specified value.\n",
    "The rfind() method returns -1 if the value is not found.\n",
    "The rfind() method is almost the same as the rindex()"
   ]
  },
  {
   "cell_type": "code",
   "execution_count": 29,
   "metadata": {},
   "outputs": [
    {
     "name": "stdout",
     "output_type": "stream",
     "text": [
      "12\n"
     ]
    }
   ],
   "source": [
    "txt = \"Mi casa, su casa.\"\n",
    "x = txt.rfind(\"casa\")\n",
    "print(x)"
   ]
  },
  {
   "cell_type": "markdown",
   "metadata": {},
   "source": [
    "The rindex() method finds the last occurrence of the specified value.\n",
    "The rindex() method raises an exception if the value is not found.\n",
    "The rindex() method is almost the same as the rfind()"
   ]
  },
  {
   "cell_type": "code",
   "execution_count": 30,
   "metadata": {},
   "outputs": [
    {
     "name": "stdout",
     "output_type": "stream",
     "text": [
      "12\n"
     ]
    }
   ],
   "source": [
    "txt = \"Mi casa, su casa.\"\n",
    "x = txt.rindex(\"casa\")\n",
    "print(x)"
   ]
  },
  {
   "cell_type": "code",
   "execution_count": 34,
   "metadata": {},
   "outputs": [
    {
     "name": "stdout",
     "output_type": "stream",
     "text": [
      "['welcome', 'to', 'the', 'jungle']\n",
      "['welcome to the jungle']\n",
      "['apple', 'banana#cherry#orange']\n"
     ]
    }
   ],
   "source": [
    "# The split() method splits a string into a list.\n",
    "txt = \"welcome to the jungle\"\n",
    "x = txt.split()\n",
    "print(x)\n",
    "txt1 = \"apple#banana#cherry#orange\"\n",
    "x1 = txt.split(\"#\")\n",
    "print(x1)\n",
    "\n",
    "txt2 = \"apple#banana#cherry#orange\"\n",
    "# setting the maxsplit parameter to 1, will return a list with 2 elements!\n",
    "x2 = txt2.split(\"#\", 1)\n",
    "print(x2)\n"
   ]
  },
  {
   "cell_type": "markdown",
   "metadata": {},
   "source": [
    "The rsplit() method splits a string into a list, starting from the right.\n",
    "If no \"max\" is specified, this method will return the same as the split() method."
   ]
  },
  {
   "cell_type": "code",
   "execution_count": 36,
   "metadata": {},
   "outputs": [
    {
     "name": "stdout",
     "output_type": "stream",
     "text": [
      "['apple', 'banana', 'cherry']\n",
      "['apple, banana', 'cherry']\n"
     ]
    }
   ],
   "source": [
    "txt = \"apple, banana, cherry\"\n",
    "x = txt.rsplit(\", \")\n",
    "print(x)\n",
    "\n",
    "txt1 = \"apple, banana, cherry\"\n",
    "# setting the maxsplit parameter to 1, will return a list with 2 elements!\n",
    "x1 = txt1.rsplit(\", \", 1)\n",
    "print(x1)\n"
   ]
  },
  {
   "cell_type": "markdown",
   "metadata": {},
   "source": [
    "The strip() method removes any leading, and trailing whitespaces.\n",
    "Leading means at the beginning of the string, trailing means at the end.\n",
    "You can specify which character(s) to remove, if not, any whitespaces will be removed."
   ]
  },
  {
   "cell_type": "code",
   "execution_count": 38,
   "metadata": {},
   "outputs": [
    {
     "name": "stdout",
     "output_type": "stream",
     "text": [
      "of all fruits banana is my favorite\n",
      "banana\n"
     ]
    }
   ],
   "source": [
    "txt = \"     banana     \"\n",
    "x = txt.strip()\n",
    "print(\"of all fruits\", x, \"is my favorite\")\n",
    "\n",
    "# Remove the leading and trailing characters:\n",
    "txt1 = \",,,,,rrttgg.....banana....rrr\"\n",
    "x1 = txt1.strip(\",.grt\")\n",
    "print(x1)\n"
   ]
  },
  {
   "cell_type": "code",
   "execution_count": 39,
   "metadata": {},
   "outputs": [
    {
     "name": "stdout",
     "output_type": "stream",
     "text": [
      "hELLO mY nAME iS peter\n"
     ]
    }
   ],
   "source": [
    "txt = \"Hello My Name Is PETER\"\n",
    "x = txt.swapcase()\n",
    "print(x)"
   ]
  },
  {
   "cell_type": "code",
   "execution_count": 40,
   "metadata": {},
   "outputs": [
    {
     "name": "stdout",
     "output_type": "stream",
     "text": [
      "Welcome To My World\n"
     ]
    }
   ],
   "source": [
    "# Make the first letter in each word upper case:\n",
    "txt = \"Welcome to my world\"\n",
    "x = txt.title()\n",
    "print(x)"
   ]
  },
  {
   "cell_type": "code",
   "execution_count": 41,
   "metadata": {},
   "outputs": [
    {
     "name": "stdout",
     "output_type": "stream",
     "text": [
      "Hello Pam!\n"
     ]
    }
   ],
   "source": [
    "# use a dictionary with ascii codes to replace 83 (S) with 80 (P):\n",
    "mydict = {83:  80}\n",
    "txt = \"Hello Sam!\"\n",
    "print(txt.translate(mydict))"
   ]
  },
  {
   "cell_type": "code",
   "execution_count": 43,
   "metadata": {},
   "outputs": [
    {
     "name": "stdout",
     "output_type": "stream",
     "text": [
      "Hello Pam!\n",
      "Hi Joe!\n"
     ]
    }
   ],
   "source": [
    "# Use a mapping table to replace \"S\" with \"P\":\n",
    "txt = \"Hello Sam!\"\n",
    "mytable = str.maketrans(\"S\", \"P\")\n",
    "print(txt.translate(mytable))\n",
    "\n",
    "# Use a mapping table to replace many characters:\n",
    "txt1 = \"Hi Sam!\"\n",
    "x1 = \"mSa\"\n",
    "y1 = \"eJo\"\n",
    "mytable = str.maketrans(x1, y1)\n",
    "print(txt1.translate(mytable))"
   ]
  },
  {
   "cell_type": "code",
   "execution_count": 44,
   "metadata": {},
   "outputs": [
    {
     "name": "stdout",
     "output_type": "stream",
     "text": [
      "HELLO MY FRIENDS\n"
     ]
    }
   ],
   "source": [
    "txt = \"Hello my friends\"\n",
    "x = txt.upper()\n",
    "print(x)"
   ]
  },
  {
   "cell_type": "code",
   "execution_count": 45,
   "metadata": {},
   "outputs": [
    {
     "name": "stdout",
     "output_type": "stream",
     "text": [
      "0000000050\n"
     ]
    }
   ],
   "source": [
    "# Fill the string with zeros until it is 10 characters long:\n",
    "txt = \"50\"\n",
    "x = txt.zfill(10)\n",
    "print(x)\n",
    "# a = \"hello\"\n",
    "# b = \"welcome to the jungle\"\n",
    "# c = \"10.000\"\n",
    "\n",
    "# print(a.zfill(10))\n",
    "# print(b.zfill(10))\n",
    "# print(c.zfill(10))"
   ]
  }
 ],
 "metadata": {
  "kernelspec": {
   "display_name": "Python 3",
   "language": "python",
   "name": "python3"
  },
  "language_info": {
   "codemirror_mode": {
    "name": "ipython",
    "version": 3
   },
   "file_extension": ".py",
   "mimetype": "text/x-python",
   "name": "python",
   "nbconvert_exporter": "python",
   "pygments_lexer": "ipython3",
   "version": "3.12.5"
  },
  "orig_nbformat": 4
 },
 "nbformat": 4,
 "nbformat_minor": 2
}
