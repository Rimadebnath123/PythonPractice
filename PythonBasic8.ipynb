{
 "cells": [
  {
   "cell_type": "markdown",
   "metadata": {},
   "source": [
    "Python Inheritance\n",
    "Inheritance allows us to define a class that inherits all the methods and properties from another class.\n",
    "\n",
    "Parent class is the class being inherited from, also called base class.\n",
    "\n",
    "Child class is the class that inherits from another class, also called derived class."
   ]
  },
  {
   "cell_type": "code",
   "execution_count": 1,
   "metadata": {},
   "outputs": [
    {
     "name": "stdout",
     "output_type": "stream",
     "text": [
      "John Doe\n"
     ]
    }
   ],
   "source": [
    "class Person:\n",
    "  def __init__(self, fname, lname):\n",
    "    self.firstname = fname\n",
    "    self.lastname = lname\n",
    "\n",
    "  def printname(self):\n",
    "    print(self.firstname, self.lastname)\n",
    "\n",
    "#Use the Person class to create an object, and then execute the printname method:\n",
    "\n",
    "x = Person(\"John\", \"Doe\")\n",
    "x.printname()"
   ]
  },
  {
   "cell_type": "markdown",
   "metadata": {},
   "source": [
    "Create a Child Class\n",
    "To create a class that inherits the functionality from another class, send the parent class as a parameter when creating the child class:"
   ]
  },
  {
   "cell_type": "code",
   "execution_count": 2,
   "metadata": {},
   "outputs": [
    {
     "name": "stdout",
     "output_type": "stream",
     "text": [
      "Mike Olsen\n"
     ]
    }
   ],
   "source": [
    "class Person:\n",
    "  def __init__(self, fname, lname):\n",
    "    self.firstname = fname\n",
    "    self.lastname = lname\n",
    "\n",
    "  def printname(self):\n",
    "    print(self.firstname, self.lastname)\n",
    "\n",
    "class Student(Person):\n",
    "  pass\n",
    "\n",
    "x = Student(\"Mike\", \"Olsen\")\n",
    "x.printname()"
   ]
  },
  {
   "cell_type": "markdown",
   "metadata": {},
   "source": [
    "Add the` __init__() `Function\n",
    "So far we have created a child class that inherits the properties and methods from its parent.\n",
    "\n",
    "We want to add the ` __init__() `function to the child class (instead of the pass keyword).\n",
    "\n",
    "Note: The `__init__()` function is called automatically every time the class is being used to create a new object."
   ]
  },
  {
   "cell_type": "code",
   "execution_count": 1,
   "metadata": {},
   "outputs": [
    {
     "name": "stdout",
     "output_type": "stream",
     "text": [
      "Mike Olsen\n"
     ]
    }
   ],
   "source": [
    "# When you add the __init__() function, the child class will no longer inherit the parent's __init__() function.\n",
    "\n",
    "# Note: The child's __init__() function overrides the inheritance of the parent's __init__() function.\n",
    "\n",
    "# To keep the inheritance of the parent's __init__() function, add a call to the parent's __init__() function:\n",
    "class Person:\n",
    "  def __init__(self, fname, lname):\n",
    "    self.firstname = fname\n",
    "    self.lastname = lname\n",
    "\n",
    "  def printname(self):\n",
    "    print(self.firstname, self.lastname)\n",
    "\n",
    "class Student(Person):\n",
    "  def __init__(self, fname, lname):\n",
    "    Person.__init__(self, fname, lname)\n",
    "\n",
    "x = Student(\"Mike\", \"Olsen\")\n",
    "x.printname()\n"
   ]
  },
  {
   "cell_type": "markdown",
   "metadata": {},
   "source": [
    "Use the super() Function\n",
    "Python also has a super() function that will make the child class inherit all the methods and properties from its parent:"
   ]
  },
  {
   "cell_type": "code",
   "execution_count": 2,
   "metadata": {},
   "outputs": [
    {
     "name": "stdout",
     "output_type": "stream",
     "text": [
      "Mike Olsen\n"
     ]
    }
   ],
   "source": [
    "class Person:\n",
    "  def __init__(self, fname, lname):\n",
    "    self.firstname = fname\n",
    "    self.lastname = lname\n",
    "\n",
    "  def printname(self):\n",
    "    print(self.firstname, self.lastname)\n",
    "\n",
    "class Student(Person):\n",
    "  def __init__(self, fname, lname):\n",
    "    super().__init__(fname, lname)\n",
    "\n",
    "x = Student(\"Mike\", \"Olsen\")\n",
    "x.printname()\n"
   ]
  },
  {
   "cell_type": "code",
   "execution_count": 3,
   "metadata": {},
   "outputs": [
    {
     "name": "stdout",
     "output_type": "stream",
     "text": [
      "2019\n"
     ]
    }
   ],
   "source": [
    "# Add Properties\n",
    "class Person:\n",
    "  def __init__(self, fname, lname):\n",
    "    self.firstname = fname\n",
    "    self.lastname = lname\n",
    "\n",
    "  def printname(self):\n",
    "    print(self.firstname, self.lastname)\n",
    "\n",
    "class Student(Person):\n",
    "  def __init__(self, fname, lname):\n",
    "    super().__init__(fname, lname)\n",
    "    self.graduationyear = 2019\n",
    "\n",
    "x = Student(\"Mike\", \"Olsen\")\n",
    "print(x.graduationyear)"
   ]
  },
  {
   "cell_type": "code",
   "execution_count": 4,
   "metadata": {},
   "outputs": [
    {
     "name": "stdout",
     "output_type": "stream",
     "text": [
      "2019\n"
     ]
    }
   ],
   "source": [
    "# In the example below, the year 2019 should be a variable, and passed into the Student class when creating student objects. To do so, add another parameter in the __init__() function:\n",
    "\n",
    "# Example\n",
    "# Add a year parameter, and pass the correct year when creating objects:\n",
    "class Person:\n",
    "  def __init__(self, fname, lname):\n",
    "    self.firstname = fname\n",
    "    self.lastname = lname\n",
    "\n",
    "  def printname(self):\n",
    "    print(self.firstname, self.lastname)\n",
    "\n",
    "class Student(Person):\n",
    "  def __init__(self, fname, lname, year):\n",
    "    super().__init__(fname, lname)\n",
    "    self.graduationyear = year\n",
    "\n",
    "x = Student(\"Mike\", \"Olsen\", 2019)\n",
    "print(x.graduationyear)"
   ]
  },
  {
   "cell_type": "code",
   "execution_count": 5,
   "metadata": {},
   "outputs": [
    {
     "name": "stdout",
     "output_type": "stream",
     "text": [
      "Welcome Mike Olsen to the class of 2024\n"
     ]
    }
   ],
   "source": [
    "# Add Methods\n",
    "class Person:\n",
    "  def __init__(self, fname, lname):\n",
    "    self.firstname = fname\n",
    "    self.lastname = lname\n",
    "\n",
    "  def printname(self):\n",
    "    print(self.firstname, self.lastname)\n",
    "\n",
    "class Student(Person):\n",
    "  def __init__(self, fname, lname, year):\n",
    "    super().__init__(fname, lname)\n",
    "    self.graduationyear = year\n",
    "\n",
    "  def welcome(self):\n",
    "    print(\"Welcome\", self.firstname, self.lastname, \"to the class of\", self.graduationyear)\n",
    "\n",
    "x = Student(\"Mike\", \"Olsen\", 2024)\n",
    "x.welcome()"
   ]
  },
  {
   "cell_type": "markdown",
   "metadata": {},
   "source": [
    "Python Iterators\n",
    "An iterator is an object that contains a countable number of values.\n",
    "\n",
    "An iterator is an object that can be iterated upon, meaning that you can traverse through all the values.\n",
    "\n",
    "Technically, in Python, an iterator is an object which implements the iterator protocol, which consist of the methods` __iter__()` and `__next__()`.\n",
    "\n",
    "Iterator vs Iterable\n",
    "Lists, tuples, dictionaries, and sets are all iterable objects. They are iterable containers which you can get an iterator from.\n",
    "\n",
    "All these objects have a iter() method which is used to get an iterator:"
   ]
  },
  {
   "cell_type": "code",
   "execution_count": 6,
   "metadata": {},
   "outputs": [
    {
     "name": "stdout",
     "output_type": "stream",
     "text": [
      "apple\n",
      "banana\n",
      "cherry\n"
     ]
    }
   ],
   "source": [
    "mytuple = (\"apple\", \"banana\", \"cherry\")\n",
    "myit = iter(mytuple)\n",
    "\n",
    "print(next(myit))\n",
    "print(next(myit))\n",
    "print(next(myit))\n"
   ]
  },
  {
   "cell_type": "code",
   "execution_count": 7,
   "metadata": {},
   "outputs": [
    {
     "name": "stdout",
     "output_type": "stream",
     "text": [
      "b\n",
      "a\n",
      "n\n",
      "a\n",
      "n\n",
      "a\n"
     ]
    }
   ],
   "source": [
    "# Even strings are iterable objects, and can return an iterator:\n",
    "\n",
    "# Example\n",
    "# Strings are also iterable objects, containing a sequence of characters:\n",
    "mystr = \"banana\"\n",
    "myit = iter(mystr)\n",
    "\n",
    "print(next(myit))\n",
    "print(next(myit))\n",
    "print(next(myit))\n",
    "print(next(myit))\n",
    "print(next(myit))\n",
    "print(next(myit))"
   ]
  },
  {
   "cell_type": "code",
   "execution_count": 8,
   "metadata": {},
   "outputs": [
    {
     "name": "stdout",
     "output_type": "stream",
     "text": [
      "apple\n",
      "banana\n",
      "cherry\n"
     ]
    }
   ],
   "source": [
    "# Looping Through an Iterator\n",
    "# We can also use a for loop to iterate through an iterable object:\n",
    "mytuple = (\"apple\", \"banana\", \"cherry\")\n",
    "\n",
    "for x in mytuple:\n",
    "  print(x)"
   ]
  },
  {
   "cell_type": "code",
   "execution_count": 9,
   "metadata": {},
   "outputs": [
    {
     "name": "stdout",
     "output_type": "stream",
     "text": [
      "b\n",
      "a\n",
      "n\n",
      "a\n",
      "n\n",
      "a\n"
     ]
    }
   ],
   "source": [
    "# Iterate the characters of a string:\n",
    "mystr = \"banana\"\n",
    "\n",
    "for x in mystr:\n",
    "  print(x)"
   ]
  },
  {
   "cell_type": "code",
   "execution_count": 10,
   "metadata": {},
   "outputs": [
    {
     "name": "stdout",
     "output_type": "stream",
     "text": [
      "1\n",
      "2\n",
      "3\n",
      "4\n",
      "5\n"
     ]
    }
   ],
   "source": [
    "# Create an Iterator\n",
    "# To create an object/class as an iterator you have to implement the methods __iter__() and __next__() to your object.\n",
    "\n",
    "# As you have learned in the Python Classes/Objects chapter, all classes have a function called __init__(), which allows you to do some initializing when the object is being created.\n",
    "\n",
    "# The __iter__() method acts similar, you can do operations (initializing etc.), but must always return the iterator object itself.\n",
    "\n",
    "# The __next__() method also allows you to do operations, and must return the next item in the sequence.\n",
    "\n",
    "class MyNumbers:\n",
    "  def __iter__(self):\n",
    "    self.a = 1\n",
    "    return self\n",
    "\n",
    "  def __next__(self):\n",
    "    x = self.a\n",
    "    self.a += 1\n",
    "    return x\n",
    "\n",
    "myclass = MyNumbers()\n",
    "myiter = iter(myclass)\n",
    "\n",
    "print(next(myiter))\n",
    "print(next(myiter))\n",
    "print(next(myiter))\n",
    "print(next(myiter))\n",
    "print(next(myiter))"
   ]
  },
  {
   "cell_type": "markdown",
   "metadata": {},
   "source": [
    "topIteration\n",
    "The example above would continue forever if you had enough next() statements, or if it was used in a for loop.\n",
    "\n",
    "To prevent the iteration from going on forever, we can use the StopIteration statement.\n",
    "\n",
    "In the __next__() method, we can add a terminating condition to raise an error if the iteration is done a specified number of times:"
   ]
  },
  {
   "cell_type": "code",
   "execution_count": 11,
   "metadata": {},
   "outputs": [
    {
     "name": "stdout",
     "output_type": "stream",
     "text": [
      "1\n",
      "2\n",
      "3\n",
      "4\n",
      "5\n",
      "6\n",
      "7\n",
      "8\n",
      "9\n",
      "10\n",
      "11\n",
      "12\n",
      "13\n",
      "14\n",
      "15\n",
      "16\n",
      "17\n",
      "18\n",
      "19\n",
      "20\n"
     ]
    }
   ],
   "source": [
    "class MyNumbers:\n",
    "  def __iter__(self):\n",
    "    self.a = 1\n",
    "    return self\n",
    "\n",
    "  def __next__(self):\n",
    "    if self.a <= 20:\n",
    "      x = self.a\n",
    "      self.a += 1\n",
    "      return x\n",
    "    else:\n",
    "      raise StopIteration\n",
    "\n",
    "myclass = MyNumbers()\n",
    "myiter = iter(myclass)\n",
    "\n",
    "for x in myiter:\n",
    "  print(x)\n"
   ]
  },
  {
   "cell_type": "markdown",
   "metadata": {},
   "source": [
    "Python Polymorphism\n",
    "\n",
    "The word \"polymorphism\" means \"many forms\", and in programming it refers to methods/functions/operators with the same name that can be executed on many objects or classes.\n",
    "\n",
    "Function Polymorphism\n",
    "An example of a Python function that can be used on different objects is the len() function.\n",
    "\n",
    "String\n",
    "For strings len() returns the number of characters:"
   ]
  },
  {
   "cell_type": "code",
   "execution_count": 12,
   "metadata": {},
   "outputs": [
    {
     "name": "stdout",
     "output_type": "stream",
     "text": [
      "12\n"
     ]
    }
   ],
   "source": [
    "x = \"Hello World!\"\n",
    "\n",
    "print(len(x))"
   ]
  },
  {
   "cell_type": "code",
   "execution_count": 13,
   "metadata": {},
   "outputs": [
    {
     "name": "stdout",
     "output_type": "stream",
     "text": [
      "3\n"
     ]
    }
   ],
   "source": [
    "# Tuple\n",
    "# For tuples len() returns the number of items in the tuple:\n",
    "\n",
    "mytuple = (\"apple\", \"banana\", \"cherry\")\n",
    "print(len(mytuple))"
   ]
  },
  {
   "cell_type": "code",
   "execution_count": 14,
   "metadata": {},
   "outputs": [
    {
     "name": "stdout",
     "output_type": "stream",
     "text": [
      "3\n"
     ]
    }
   ],
   "source": [
    "# Dictionary\n",
    "# For dictionaries len() returns the number of key/value pairs in the dictionary:\n",
    "\n",
    "thisdict = {\n",
    "  \"brand\": \"Ford\",\n",
    "  \"model\": \"Mustang\",\n",
    "  \"year\": 1964\n",
    "}\n",
    "\n",
    "print(len(thisdict))"
   ]
  },
  {
   "cell_type": "code",
   "execution_count": 15,
   "metadata": {},
   "outputs": [
    {
     "name": "stdout",
     "output_type": "stream",
     "text": [
      "Drive!\n",
      "Sail!\n",
      "Fly!\n"
     ]
    }
   ],
   "source": [
    "# Class Polymorphism\n",
    "# Polymorphism is often used in Class methods, where we can have multiple classes with the same method name.\n",
    "\n",
    "# For example, say we have three classes: Car, Boat, and Plane, and they all have a method called move():\n",
    "class Car:\n",
    "  def __init__(self, brand, model):\n",
    "    self.brand = brand\n",
    "    self.model = model\n",
    "\n",
    "  def move(self):\n",
    "    print(\"Drive!\")\n",
    "\n",
    "class Boat:\n",
    "  def __init__(self, brand, model):\n",
    "    self.brand = brand\n",
    "    self.model = model\n",
    "\n",
    "  def move(self):\n",
    "    print(\"Sail!\")\n",
    "\n",
    "class Plane:\n",
    "  def __init__(self, brand, model):\n",
    "    self.brand = brand\n",
    "    self.model = model\n",
    "\n",
    "  def move(self):\n",
    "    print(\"Fly!\")\n",
    "\n",
    "car1 = Car(\"Ford\", \"Mustang\")       #Create a Car object\n",
    "boat1 = Boat(\"Ibiza\", \"Touring 20\") #Create a Boat object\n",
    "plane1 = Plane(\"Boeing\", \"747\")     #Create a Plane object\n",
    "\n",
    "for x in (car1, boat1, plane1):\n",
    "  x.move()"
   ]
  },
  {
   "cell_type": "markdown",
   "metadata": {},
   "source": [
    "Inheritance Class Polymorphism\n",
    "What about classes with child classes with the same name? Can we use polymorphism there?\n",
    "\n",
    "Yes. If we use the example above and make a parent class called Vehicle, and make Car, Boat, Plane child classes of Vehicle, the child classes inherits the Vehicle methods, but can override them:"
   ]
  },
  {
   "cell_type": "code",
   "execution_count": 16,
   "metadata": {},
   "outputs": [
    {
     "name": "stdout",
     "output_type": "stream",
     "text": [
      "Ford\n",
      "Mustang\n",
      "Move!\n",
      "Ibiza\n",
      "Touring 20\n",
      "Sail!\n",
      "Boeing\n",
      "747\n",
      "Fly!\n"
     ]
    }
   ],
   "source": [
    "# Create a class called Vehicle and make Car, Boat, Plane child classes of Vehicle:\n",
    "\n",
    "class Vehicle:\n",
    "  def __init__(self, brand, model):\n",
    "    self.brand = brand\n",
    "    self.model = model\n",
    "\n",
    "  def move(self):\n",
    "    print(\"Move!\")\n",
    "\n",
    "class Car(Vehicle):\n",
    "  pass\n",
    "\n",
    "class Boat(Vehicle):\n",
    "  def move(self):\n",
    "    print(\"Sail!\")\n",
    "\n",
    "class Plane(Vehicle):\n",
    "  def move(self):\n",
    "    print(\"Fly!\")\n",
    "\n",
    "car1 = Car(\"Ford\", \"Mustang\")       #Create a Car object\n",
    "boat1 = Boat(\"Ibiza\", \"Touring 20\") #Create a Boat object\n",
    "plane1 = Plane(\"Boeing\", \"747\")     #Create a Plane object\n",
    "\n",
    "for x in (car1, boat1, plane1):\n",
    "  print(x.brand)\n",
    "  print(x.model)\n",
    "  x.move()"
   ]
  },
  {
   "cell_type": "markdown",
   "metadata": {},
   "source": [
    "Child classes inherits the properties and methods from the parent class.\n",
    "\n",
    "In the example above you can see that the Car class is empty, but it inherits brand, model, and move() from Vehicle.\n",
    "\n",
    "The Boat and Plane classes also inherit brand, model, and move() from Vehicle, but they both override the move() method.\n",
    "\n",
    "Because of polymorphism we can execute the same method for all classes."
   ]
  },
  {
   "cell_type": "markdown",
   "metadata": {},
   "source": [
    "Python Scope\n",
    "\n",
    "A variable is only available from inside the region it is created. This is called scope.\n",
    "\n",
    "Local Scope\n",
    "A variable created inside a function belongs to the local scope of that function, and can only be used inside that function."
   ]
  },
  {
   "cell_type": "code",
   "execution_count": 17,
   "metadata": {},
   "outputs": [
    {
     "name": "stdout",
     "output_type": "stream",
     "text": [
      "300\n"
     ]
    }
   ],
   "source": [
    "def myfunc():\n",
    "  x = 300\n",
    "  print(x)\n",
    "\n",
    "myfunc()"
   ]
  },
  {
   "cell_type": "code",
   "execution_count": 18,
   "metadata": {},
   "outputs": [
    {
     "name": "stdout",
     "output_type": "stream",
     "text": [
      "300\n"
     ]
    }
   ],
   "source": [
    "# Function Inside Function\n",
    "# As explained in the example above, the variable x is not available outside the function, but it is available for any function inside the function:\n",
    "\n",
    "# # The local variable can be accessed from a function within the function:\n",
    "\n",
    "def myfunc():\n",
    "  x = 300\n",
    "  def myinnerfunc():\n",
    "    print(x)\n",
    "  myinnerfunc()\n",
    "\n",
    "myfunc()"
   ]
  },
  {
   "cell_type": "code",
   "execution_count": 19,
   "metadata": {},
   "outputs": [
    {
     "name": "stdout",
     "output_type": "stream",
     "text": [
      "300\n",
      "300\n"
     ]
    }
   ],
   "source": [
    "# Global Scope\n",
    "# A variable created in the main body of the Python code is a global variable and belongs to the global scope.\n",
    "\n",
    "# Global variables are available from within any scope, global and local.\n",
    "\n",
    "# A variable created outside of a function is global and can be used by anyone:\n",
    "\n",
    "x = 300\n",
    "\n",
    "def myfunc():\n",
    "  print(x)\n",
    "\n",
    "myfunc()\n",
    "\n",
    "print(x)"
   ]
  },
  {
   "cell_type": "code",
   "execution_count": 20,
   "metadata": {},
   "outputs": [
    {
     "name": "stdout",
     "output_type": "stream",
     "text": [
      "200\n",
      "300\n"
     ]
    }
   ],
   "source": [
    "# Naming Variables\n",
    "# If you operate with the same variable name inside and outside of a function, Python will treat them as two separate variables, one available in the global scope (outside the function) and one available in the local scope (inside the function):\n",
    "# The function will print the local x, and then the code will print the global x:\n",
    "\n",
    "x = 300\n",
    "\n",
    "def myfunc():\n",
    "  x = 200\n",
    "  print(x)\n",
    "\n",
    "myfunc()\n",
    "\n",
    "print(x)"
   ]
  },
  {
   "cell_type": "code",
   "execution_count": 21,
   "metadata": {},
   "outputs": [
    {
     "name": "stdout",
     "output_type": "stream",
     "text": [
      "300\n"
     ]
    }
   ],
   "source": [
    "# Global Keyword\n",
    "# If you need to create a global variable, but are stuck in the local scope, you can use the global keyword.\n",
    "\n",
    "# The global keyword makes the variable global.\n",
    "# If you use the global keyword, the variable belongs to the global scope:\n",
    "\n",
    "def myfunc():\n",
    "  global x\n",
    "  x = 300\n",
    "\n",
    "myfunc()\n",
    "\n",
    "print(x)"
   ]
  },
  {
   "cell_type": "code",
   "execution_count": 22,
   "metadata": {},
   "outputs": [
    {
     "name": "stdout",
     "output_type": "stream",
     "text": [
      "200\n"
     ]
    }
   ],
   "source": [
    "# Also, use the global keyword if you want to make a change to a global variable inside a function.\n",
    "\n",
    "# To change the value of a global variable inside a function, refer to the variable by using the global keyword:\n",
    "x = 300\n",
    "def myfunc():\n",
    "  global x\n",
    "  x = 200\n",
    "\n",
    "myfunc()\n",
    "\n",
    "print(x)"
   ]
  },
  {
   "cell_type": "code",
   "execution_count": 23,
   "metadata": {},
   "outputs": [
    {
     "name": "stdout",
     "output_type": "stream",
     "text": [
      "hello\n"
     ]
    }
   ],
   "source": [
    "# Nonlocal Keyword\n",
    "# The nonlocal keyword is used to work with variables inside nested functions.\n",
    "\n",
    "# The nonlocal keyword makes the variable belong to the outer function.\n",
    "def myfunc1():\n",
    "  x = \"Jane\"\n",
    "  def myfunc2():\n",
    "    nonlocal x\n",
    "    x = \"hello\"\n",
    "  myfunc2()\n",
    "  return x\n",
    "\n",
    "print(myfunc1())"
   ]
  },
  {
   "cell_type": "markdown",
   "metadata": {},
   "source": [
    "Python Datetime\n",
    "Python Dates\n",
    "A date in Python is not a data type of its own, but we can import a module named datetime to work with dates as date objects."
   ]
  },
  {
   "cell_type": "code",
   "execution_count": 1,
   "metadata": {},
   "outputs": [
    {
     "name": "stdout",
     "output_type": "stream",
     "text": [
      "2025-01-25 20:16:30.265839\n"
     ]
    }
   ],
   "source": [
    "import datetime\n",
    "\n",
    "x = datetime.datetime.now()\n",
    "print(x)"
   ]
  },
  {
   "cell_type": "code",
   "execution_count": 2,
   "metadata": {},
   "outputs": [
    {
     "name": "stdout",
     "output_type": "stream",
     "text": [
      "2025\n",
      "Saturday\n"
     ]
    }
   ],
   "source": [
    "import datetime\n",
    "\n",
    "x = datetime.datetime.now()\n",
    "\n",
    "print(x.year)\n",
    "print(x.strftime(\"%A\"))\n"
   ]
  },
  {
   "cell_type": "markdown",
   "metadata": {},
   "source": [
    "Creating Date Objects\n",
    "To create a date, we can use the datetime() class (constructor) of the datetime module.\n",
    "\n",
    "The datetime() class requires three parameters to create a date: year, month, day."
   ]
  },
  {
   "cell_type": "code",
   "execution_count": 3,
   "metadata": {},
   "outputs": [
    {
     "name": "stdout",
     "output_type": "stream",
     "text": [
      "2020-05-17 00:00:00\n"
     ]
    }
   ],
   "source": [
    "import datetime\n",
    "\n",
    "x = datetime.datetime(2020, 5, 17)\n",
    "\n",
    "print(x)\n"
   ]
  },
  {
   "cell_type": "code",
   "execution_count": 5,
   "metadata": {},
   "outputs": [
    {
     "name": "stdout",
     "output_type": "stream",
     "text": [
      "June\n"
     ]
    }
   ],
   "source": [
    "import datetime\n",
    "# The strftime() Method\n",
    "# The datetime object has a method for formatting date objects into readable strings.\n",
    "\n",
    "# The method is called strftime(), and takes one parameter, format, to specify the format of the returned string:\n",
    "# Display the name of the month:\n",
    "\n",
    "\n",
    "x = datetime.datetime(2018, 6, 1)\n",
    "\n",
    "print(x.strftime(\"%B\"))"
   ]
  },
  {
   "cell_type": "markdown",
   "metadata": {},
   "source": [
    "# Directive table for datetime formatting in Python\n",
    "\n",
    "| Directive | Description                                 | Example                       |\n",
    "|-----------|---------------------------------------------|-------------------------------|\n",
    "| %a        | Weekday, short version                     | Wed                           |\n",
    "| %A        | Weekday, full version                      | Wednesday                     |\n",
    "| %w        | Weekday as a number 0-6, 0 is Sunday       | 3                             |\n",
    "| %d        | Day of month 01-31                         | 31                            |\n",
    "| %b        | Month name, short version                  | Dec                           |\n",
    "| %B        | Month name, full version                   | December                      |\n",
    "| %m        | Month as a number 01-12                    | 12                            |\n",
    "| %y        | Year, short version, without century       | 18                            |\n",
    "| %Y        | Year, full version                         | 2018                          |\n",
    "| %H        | Hour 00-23                                 | 17                            |\n",
    "| %I        | Hour 00-12                                 | 05                            |\n",
    "| %p        | AM/PM                                      | PM                            |\n",
    "| %M        | Minute 00-59                               | 41                            |\n",
    "| %S        | Second 00-59                               | 08                            |\n",
    "| %f        | Microsecond 000000-999999                  | 548513                        |\n",
    "| %z        | UTC offset                                 | +0100                         |\n",
    "| %Z        | Timezone                                   | CST                           |\n",
    "| %j        | Day number of year 001-366                 | 365                           |\n",
    "| %U        | Week number of year, Sunday as first day   | 52                            |\n",
    "| %W        | Week number of year, Monday as first day   | 52                            |\n",
    "| %c        | Local version of date and time            | Mon Dec 31 17:41:00 2018     |\n",
    "| %C        | Century                                    | 20                            |\n",
    "| %x        | Local version of date                     | 12/31/18                      |\n",
    "| %X        | Local version of time                     | 17:41:00                      |\n",
    "| %%        | A % character                              | %                             |\n",
    "| %G        | ISO 8601 year                              | 2018                          |\n",
    "| %u        | ISO 8601 weekday (1-7)                    | 1                             |\n",
    "| %V        | ISO 8601 weeknumber (01-53)               | 01                            |\n"
   ]
  },
  {
   "cell_type": "markdown",
   "metadata": {},
   "source": [
    "Python Math\n",
    "Python has a set of built-in math functions, including an extensive math module, that allows you to perform mathematical tasks on numbers.\n",
    "Built-in Math Functions\n",
    "The min() and max() functions can be used to find the lowest or highest value in an iterable:"
   ]
  },
  {
   "cell_type": "code",
   "execution_count": 6,
   "metadata": {},
   "outputs": [
    {
     "name": "stdout",
     "output_type": "stream",
     "text": [
      "5\n",
      "25\n"
     ]
    }
   ],
   "source": [
    "x = min(5, 10, 25)\n",
    "y = max(5, 10, 25)\n",
    "\n",
    "print(x)\n",
    "print(y)"
   ]
  },
  {
   "cell_type": "code",
   "execution_count": 7,
   "metadata": {},
   "outputs": [
    {
     "name": "stdout",
     "output_type": "stream",
     "text": [
      "7.25\n"
     ]
    }
   ],
   "source": [
    "x = abs(-7.25)\n",
    "print(x)"
   ]
  },
  {
   "cell_type": "code",
   "execution_count": 8,
   "metadata": {},
   "outputs": [
    {
     "name": "stdout",
     "output_type": "stream",
     "text": [
      "64\n"
     ]
    }
   ],
   "source": [
    "x = pow(4, 3)\n",
    "print(x)"
   ]
  },
  {
   "cell_type": "markdown",
   "metadata": {},
   "source": [
    "The Math Module\n",
    "Python has also a built-in module called math, which extends the list of mathematical functions.\n",
    "\n",
    "To use it, you must import the math module:\n",
    "\n",
    "import math"
   ]
  },
  {
   "cell_type": "code",
   "execution_count": 9,
   "metadata": {},
   "outputs": [
    {
     "name": "stdout",
     "output_type": "stream",
     "text": [
      "8.0\n"
     ]
    }
   ],
   "source": [
    "import math\n",
    "x = math.sqrt(64)\n",
    "print(x)"
   ]
  },
  {
   "cell_type": "code",
   "execution_count": 10,
   "metadata": {},
   "outputs": [
    {
     "name": "stdout",
     "output_type": "stream",
     "text": [
      "2\n",
      "1\n"
     ]
    }
   ],
   "source": [
    "import math\n",
    "\n",
    "x = math.ceil(1.4)\n",
    "y = math.floor(1.4)\n",
    "print(x)  # returns 2\n",
    "print(y)  # returns 1\n"
   ]
  },
  {
   "cell_type": "code",
   "execution_count": 11,
   "metadata": {},
   "outputs": [
    {
     "name": "stdout",
     "output_type": "stream",
     "text": [
      "3.141592653589793\n"
     ]
    }
   ],
   "source": [
    "import math\n",
    "x = math.pi\n",
    "print(x)"
   ]
  },
  {
   "cell_type": "markdown",
   "metadata": {},
   "source": [
    "Python JSON\n",
    "JSON is a syntax for storing and exchanging data.\n",
    "\n",
    "JSON is text, written with JavaScript object notation.\n",
    "\n",
    "JSON in Python\n",
    "Python has a built-in package called json, which can be used to work with JSON data.\n",
    "\n",
    "Parse JSON - Convert from JSON to Python\n",
    "If you have a JSON string, you can parse it by using the json.loads() method.\n",
    "\n",
    "The result will be a Python dictionary."
   ]
  },
  {
   "cell_type": "code",
   "execution_count": 12,
   "metadata": {},
   "outputs": [
    {
     "name": "stdout",
     "output_type": "stream",
     "text": [
      "30\n"
     ]
    }
   ],
   "source": [
    "import json\n",
    "\n",
    "# some JSON:\n",
    "x = '{ \"name\":\"John\", \"age\":30, \"city\":\"New York\"}'\n",
    "\n",
    "# parse x:\n",
    "y = json.loads(x)\n",
    "\n",
    "# the result is a Python dictionary:\n",
    "print(y[\"age\"])"
   ]
  },
  {
   "cell_type": "code",
   "execution_count": 13,
   "metadata": {},
   "outputs": [
    {
     "name": "stdout",
     "output_type": "stream",
     "text": [
      "{\"name\": \"John\", \"age\": 30, \"city\": \"New York\"}\n"
     ]
    }
   ],
   "source": [
    "# Convert from Python to JSON\n",
    "# If you have a Python object, you can convert it into a JSON string by using the json.dumps() method.\n",
    "import json\n",
    "\n",
    "# a Python object (dict):\n",
    "x = {\n",
    "    \"name\": \"John\",\n",
    "    \"age\": 30,\n",
    "    \"city\": \"New York\"\n",
    "}\n",
    "\n",
    "# convert into JSON:\n",
    "y = json.dumps(x)\n",
    "\n",
    "# the result is a JSON string:\n",
    "print(y)"
   ]
  },
  {
   "cell_type": "markdown",
   "metadata": {},
   "source": [
    "You can convert Python objects of the following types, into JSON strings:\n",
    "\n",
    "dict\n",
    "list\n",
    "tuple\n",
    "string\n",
    "int\n",
    "float\n",
    "True\n",
    "False\n",
    "None"
   ]
  },
  {
   "cell_type": "code",
   "execution_count": 14,
   "metadata": {},
   "outputs": [
    {
     "name": "stdout",
     "output_type": "stream",
     "text": [
      "{\"name\": \"John\", \"age\": 30}\n",
      "[\"apple\", \"bananas\"]\n",
      "[\"apple\", \"bananas\"]\n",
      "\"hello\"\n",
      "42\n",
      "31.76\n",
      "true\n",
      "false\n",
      "null\n"
     ]
    }
   ],
   "source": [
    "import json\n",
    "\n",
    "print(json.dumps({\"name\": \"John\", \"age\": 30}))\n",
    "print(json.dumps([\"apple\", \"bananas\"]))\n",
    "print(json.dumps((\"apple\", \"bananas\")))\n",
    "print(json.dumps(\"hello\"))\n",
    "print(json.dumps(42))\n",
    "print(json.dumps(31.76))\n",
    "print(json.dumps(True))\n",
    "print(json.dumps(False))\n",
    "print(json.dumps(None))"
   ]
  },
  {
   "cell_type": "code",
   "execution_count": 15,
   "metadata": {},
   "outputs": [
    {
     "name": "stdout",
     "output_type": "stream",
     "text": [
      "{\"name\": \"John\", \"age\": 30, \"married\": true, \"divorced\": false, \"children\": [\"Ann\", \"Billy\"], \"pets\": null, \"cars\": [{\"model\": \"BMW 230\", \"mpg\": 27.5}, {\"model\": \"Ford Edge\", \"mpg\": 24.1}]}\n"
     ]
    }
   ],
   "source": [
    "import json\n",
    "# Convert a Python object containing all the legal data types:\n",
    "\n",
    "\n",
    "x = {\n",
    "    \"name\": \"John\",\n",
    "    \"age\": 30,\n",
    "    \"married\": True,\n",
    "    \"divorced\": False,\n",
    "    \"children\": (\"Ann\", \"Billy\"),\n",
    "    \"pets\": None,\n",
    "    \"cars\": [\n",
    "        {\"model\": \"BMW 230\", \"mpg\": 27.5},\n",
    "        {\"model\": \"Ford Edge\", \"mpg\": 24.1}\n",
    "    ]\n",
    "}\n",
    "\n",
    "print(json.dumps(x))\n"
   ]
  },
  {
   "cell_type": "markdown",
   "metadata": {},
   "source": [
    "Format the Result\n",
    "The example above prints a JSON string, but it is not very easy to read, with no indentations and line breaks.\n",
    "\n",
    "The json.dumps() method has parameters to make it easier to read the result:"
   ]
  },
  {
   "cell_type": "code",
   "execution_count": 16,
   "metadata": {},
   "outputs": [
    {
     "name": "stdout",
     "output_type": "stream",
     "text": [
      "{\n",
      "    \"name\": \"John\",\n",
      "    \"age\": 30,\n",
      "    \"married\": true,\n",
      "    \"divorced\": false,\n",
      "    \"children\": [\n",
      "        \"Ann\",\n",
      "        \"Billy\"\n",
      "    ],\n",
      "    \"pets\": null,\n",
      "    \"cars\": [\n",
      "        {\n",
      "            \"model\": \"BMW 230\",\n",
      "            \"mpg\": 27.5\n",
      "        },\n",
      "        {\n",
      "            \"model\": \"Ford Edge\",\n",
      "            \"mpg\": 24.1\n",
      "        }\n",
      "    ]\n",
      "}\n"
     ]
    }
   ],
   "source": [
    "import json\n",
    "\n",
    "x = {\n",
    "    \"name\": \"John\",\n",
    "    \"age\": 30,\n",
    "    \"married\": True,\n",
    "    \"divorced\": False,\n",
    "    \"children\": (\"Ann\", \"Billy\"),\n",
    "    \"pets\": None,\n",
    "    \"cars\": [\n",
    "        {\"model\": \"BMW 230\", \"mpg\": 27.5},\n",
    "        {\"model\": \"Ford Edge\", \"mpg\": 24.1}\n",
    "    ]\n",
    "}\n",
    "\n",
    "# use four indents to make it easier to read the result:\n",
    "print(json.dumps(x, indent=4))\n"
   ]
  },
  {
   "cell_type": "markdown",
   "metadata": {},
   "source": [
    "You can also define the separators, default value is (\", \", \": \"), which means using a comma and a space to separate each object, and a colon and a space to separate keys from values:"
   ]
  },
  {
   "cell_type": "code",
   "execution_count": 17,
   "metadata": {},
   "outputs": [
    {
     "name": "stdout",
     "output_type": "stream",
     "text": [
      "{\n",
      "    \"name\" = \"John\". \n",
      "    \"age\" = 30. \n",
      "    \"married\" = true. \n",
      "    \"divorced\" = false. \n",
      "    \"children\" = [\n",
      "        \"Ann\". \n",
      "        \"Billy\"\n",
      "    ]. \n",
      "    \"pets\" = null. \n",
      "    \"cars\" = [\n",
      "        {\n",
      "            \"model\" = \"BMW 230\". \n",
      "            \"mpg\" = 27.5\n",
      "        }. \n",
      "        {\n",
      "            \"model\" = \"Ford Edge\". \n",
      "            \"mpg\" = 24.1\n",
      "        }\n",
      "    ]\n",
      "}\n"
     ]
    }
   ],
   "source": [
    "import json\n",
    "\n",
    "x = {\n",
    "    \"name\": \"John\",\n",
    "    \"age\": 30,\n",
    "    \"married\": True,\n",
    "    \"divorced\": False,\n",
    "    \"children\": (\"Ann\", \"Billy\"),\n",
    "    \"pets\": None,\n",
    "    \"cars\": [\n",
    "        {\"model\": \"BMW 230\", \"mpg\": 27.5},\n",
    "        {\"model\": \"Ford Edge\", \"mpg\": 24.1}\n",
    "    ]\n",
    "}\n",
    "\n",
    "# use . and a space to separate objects, and a space, a = and a space to separate keys from their values:\n",
    "print(json.dumps(x, indent=4, separators=(\". \", \" = \")))\n"
   ]
  },
  {
   "cell_type": "code",
   "execution_count": 18,
   "metadata": {},
   "outputs": [
    {
     "name": "stdout",
     "output_type": "stream",
     "text": [
      "{\n",
      "    \"age\": 30,\n",
      "    \"cars\": [\n",
      "        {\n",
      "            \"model\": \"BMW 230\",\n",
      "            \"mpg\": 27.5\n",
      "        },\n",
      "        {\n",
      "            \"model\": \"Ford Edge\",\n",
      "            \"mpg\": 24.1\n",
      "        }\n",
      "    ],\n",
      "    \"children\": [\n",
      "        \"Ann\",\n",
      "        \"Billy\"\n",
      "    ],\n",
      "    \"divorced\": false,\n",
      "    \"married\": true,\n",
      "    \"name\": \"John\",\n",
      "    \"pets\": null\n",
      "}\n"
     ]
    }
   ],
   "source": [
    "# Order the Result\n",
    "# The json.dumps() method has parameters to order the keys in the result:\n",
    "import json\n",
    "\n",
    "x = {\n",
    "    \"name\": \"John\",\n",
    "    \"age\": 30,\n",
    "    \"married\": True,\n",
    "    \"divorced\": False,\n",
    "    \"children\": (\"Ann\", \"Billy\"),\n",
    "    \"pets\": None,\n",
    "    \"cars\": [\n",
    "        {\"model\": \"BMW 230\", \"mpg\": 27.5},\n",
    "        {\"model\": \"Ford Edge\", \"mpg\": 24.1}\n",
    "    ]\n",
    "}\n",
    "\n",
    "# sort the result alphabetically by keys:\n",
    "print(json.dumps(x, indent=4, sort_keys=True))\n"
   ]
  }
 ],
 "metadata": {
  "kernelspec": {
   "display_name": "Python 3.12.5 64-bit",
   "language": "python",
   "name": "python3"
  },
  "language_info": {
   "codemirror_mode": {
    "name": "ipython",
    "version": 3
   },
   "file_extension": ".py",
   "mimetype": "text/x-python",
   "name": "python",
   "nbconvert_exporter": "python",
   "pygments_lexer": "ipython3",
   "version": "3.12.5"
  },
  "vscode": {
   "interpreter": {
    "hash": "9240d949b7e875368571ba59acc67192d2efbcc4561b3c6f94c83d7858e18732"
   }
  }
 },
 "nbformat": 4,
 "nbformat_minor": 2
}
