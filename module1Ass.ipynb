{
  "nbformat": 4,
  "nbformat_minor": 0,
  "metadata": {
    "colab": {
      "provenance": []
    },
    "kernelspec": {
      "name": "python3",
      "display_name": "Python 3"
    },
    "language_info": {
      "name": "python"
    }
  },
  "cells": [
    {
      "cell_type": "code",
      "execution_count": null,
      "metadata": {
        "id": "hFiCQ_-W_aBI",
        "colab": {
          "base_uri": "https://localhost:8080/"
        },
        "outputId": "6a81625d-e3be-4217-9f6e-c842cd549163"
      },
      "outputs": [
        {
          "output_type": "stream",
          "name": "stdout",
          "text": [
            "Enter the first name:    john\n",
            "Enter the last name: Doe  \n",
            "Hello, john Doe! Welcome to the Python world\n"
          ]
        }
      ],
      "source": [
        "firstname = input(\"Enter the first name: \").strip()\n",
        "lastname = input(\"Enter the last name: \").strip()\n",
        "print(\"Hello, \" + firstname + \" \" + lastname + \"! Welcome to the Python world\")"
      ]
    },
    {
      "cell_type": "code",
      "source": [
        "a=int(input(\"Enter the first number: \"))\n",
        "b=int(input(\"Enter the second number: \"))\n",
        "print(f\"Before swapping: a= {a},b= {b}\")\n",
        "a,b=b,a\n",
        "\n",
        "print(f\"After swapping: a= {a},b= {b}\")"
      ],
      "metadata": {
        "colab": {
          "base_uri": "https://localhost:8080/"
        },
        "id": "OI_R0d6p8iQI",
        "outputId": "365f59e9-51db-4eea-ed7b-f0441cffdf8b"
      },
      "execution_count": null,
      "outputs": [
        {
          "output_type": "stream",
          "name": "stdout",
          "text": [
            "Enter the first number: 10\n",
            "Enter the second number: 20\n",
            "Before swapping: a= 10,b= 20\n",
            "After swapping: a= 20,b= 10\n"
          ]
        }
      ]
    },
    {
      "cell_type": "code",
      "source": [
        "import sys\n",
        "print(\"the python version is\"+sys.version)\n",
        "\n",
        "import math\n",
        "print(\"The value of pi is \" + str(math.pi))\n",
        "print(\"The square root of 16 is \" + str(math.sqrt(16)))\n",
        "\n",
        "import os\n",
        "print(\"The current working directory is \" + os.getcwd())\n"
      ],
      "metadata": {
        "colab": {
          "base_uri": "https://localhost:8080/"
        },
        "id": "kN3IGUZcCwyZ",
        "outputId": "540ba640-87d9-472f-b862-a2c006ef1a67"
      },
      "execution_count": null,
      "outputs": [
        {
          "output_type": "stream",
          "name": "stdout",
          "text": [
            "the python version is3.11.12 (main, Apr  9 2025, 08:55:54) [GCC 11.4.0]\n",
            "The value of pi is 3.141592653589793\n",
            "The square root of 16 is 4.0\n",
            "The current working directory is /content\n"
          ]
        }
      ]
    }
  ]
}