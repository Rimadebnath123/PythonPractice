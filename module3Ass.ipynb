{
  "nbformat": 4,
  "nbformat_minor": 0,
  "metadata": {
    "colab": {
      "provenance": []
    },
    "kernelspec": {
      "name": "python3",
      "display_name": "Python 3"
    },
    "language_info": {
      "name": "python"
    }
  },
  "cells": [
    {
      "cell_type": "code",
      "execution_count": null,
      "metadata": {
        "colab": {
          "base_uri": "https://localhost:8080/"
        },
        "id": "JM_XG5Uv5iJ5",
        "outputId": "cf23a916-92bc-4200-a852-6a0e8ce0e5ed"
      },
      "outputs": [
        {
          "output_type": "stream",
          "name": "stdout",
          "text": [
            "Enter the string:Hello World\n",
            "11\n"
          ]
        }
      ],
      "source": [
        "string =input(\"Enter the string:\")\n",
        "result=len(string)\n",
        "print(result)"
      ]
    },
    {
      "cell_type": "code",
      "source": [
        "string=(input(\"enter the string:\"))\n",
        "start=int(input(\"enter the start index:\"))\n",
        "end=int(input(\"enter the end index:\"))\n",
        "result=string[start:end]\n",
        "print(result)"
      ],
      "metadata": {
        "id": "gga54z-t9zM2",
        "colab": {
          "base_uri": "https://localhost:8080/"
        },
        "outputId": "81102205-ec9a-423d-da5f-42111652a87e"
      },
      "execution_count": null,
      "outputs": [
        {
          "output_type": "stream",
          "name": "stdout",
          "text": [
            "enter the string:hi my name is rima\n",
            "enter the start index:3\n",
            "enter the end index:7\n",
            "my n\n"
          ]
        }
      ]
    },
    {
      "cell_type": "code",
      "source": [
        "string=input(\"enter the string:\")\n",
        "result = string[::-1]\n",
        "if string==result :\n",
        "  print(\"palindrom\")\n",
        "else:\n",
        "  print(\"not palindrom\")"
      ],
      "metadata": {
        "colab": {
          "base_uri": "https://localhost:8080/"
        },
        "id": "Qq8K8HNYPj3m",
        "outputId": "85502704-ce08-46fa-fbb9-200449be003d"
      },
      "execution_count": null,
      "outputs": [
        {
          "output_type": "stream",
          "name": "stdout",
          "text": [
            "enter the string:mam\n",
            "palindrom\n"
          ]
        }
      ]
    },
    {
      "cell_type": "code",
      "source": [
        "string=input(\"enter the sentences:\")\n",
        "wordrep=input(\"enter the word:\")\n",
        "newword=input(\"enter the newword:\")\n",
        "result=string.replace(wordrep,newword)\n",
        "print(result)\n"
      ],
      "metadata": {
        "colab": {
          "base_uri": "https://localhost:8080/"
        },
        "id": "rWpbqEcTT-DV",
        "outputId": "14fdc9a5-d8f3-475b-95f9-f00fb20e6a1a"
      },
      "execution_count": null,
      "outputs": [
        {
          "output_type": "stream",
          "name": "stdout",
          "text": [
            "enter the sentences:hi how are you,i am fine,i have a car\n",
            "enter the word:i\n",
            "enter the newword:we\n",
            "hwe how are you,we am fwene,we have a car\n"
          ]
        }
      ]
    },
    {
      "cell_type": "code",
      "source": [
        "string=input(\"Enter the paragraph :\")\n",
        "word=input(\"Enter the word :\")\n",
        "result=string.count(word)\n",
        "print(result)"
      ],
      "metadata": {
        "colab": {
          "base_uri": "https://localhost:8080/"
        },
        "id": "HUGF7pR-fL_W",
        "outputId": "52223bfb-d578-451f-93b0-12c7ddf73291"
      },
      "execution_count": null,
      "outputs": [
        {
          "output_type": "stream",
          "name": "stdout",
          "text": [
            "Enter the paragraph :i am learning python,i have a book,i have a dress\n",
            "Enter the word :have\n",
            "2\n"
          ]
        }
      ]
    }
  ]
}